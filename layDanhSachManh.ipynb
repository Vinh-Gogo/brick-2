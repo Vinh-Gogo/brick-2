{
 "cells": [
  {
   "metadata": {},
   "cell_type": "markdown",
   "source": ""
  },
  {
   "metadata": {
    "ExecuteTime": {
     "end_time": "2024-08-03T09:38:52.366262Z",
     "start_time": "2024-08-03T09:38:52.353252Z"
    }
   },
   "cell_type": "code",
   "source": [
    "import cv2\n",
    "import numpy as np\n",
    "import matplotlib.pyplot as plt\n",
    "from model.Models import BorderPoint\n",
    "from model.Models import Matrix\n",
    "from model.Models import State\n",
    "from model.Models import ListCross"
   ],
   "outputs": [],
   "execution_count": 77
  },
  {
   "metadata": {
    "ExecuteTime": {
     "end_time": "2024-08-03T09:38:52.429506Z",
     "start_time": "2024-08-03T09:38:52.419016Z"
    }
   },
   "cell_type": "code",
   "source": [
    "# positions = [[50, 40], [580, 40], [580, 60], [430, 60], \n",
    "#                       [430, 100], [520, 100], [520, 150],[600, 150], [600, 200], [520, 200]\n",
    "#                       , [520, 440], [650, 440], [650, 630],\n",
    "#                       [210, 630], [210, 530], [70, 530], [70, 420],\n",
    "#                         [150, 420], [150, 140], [50, 140], [50, 40]]\n",
    "# # [ngang, dọc]\n",
    "# # grid_size = (60, 100)\n",
    "positions = [[50, 40], [580, 40], [580, 60], [430, 60], \n",
    "                      [430, 100], [520, 100], [520, 150],[600, 150], [600, 220], [620, 220],\n",
    "                      [620, 180], [660, 180], [660, 280], \n",
    "                      [550,280], [550,220], [520, 220], \n",
    "                      [520, 440], [650, 440], [650, 630],\n",
    "                      [210, 630], [210, 530], [70, 530], [70, 420], \n",
    "                      [150, 420], [150, 140], [50, 140], [50, 40]]\n",
    "# positions = [[60, 60], [270, 60], [270, 270], [60, 270], [60, 60]]\n",
    "grid_size = [150, 150]\n",
    "# positions = [[50, 40], [150, 40], [150, 120], [350, 120], \n",
    "#              [350, 60], [400, 60], [400, 200], [500, 200], \n",
    "#              [500, 500], [50, 500], [50, 40]]"
   ],
   "outputs": [],
   "execution_count": 78
  },
  {
   "metadata": {},
   "cell_type": "markdown",
   "source": "TẠO MA TRẬN"
  },
  {
   "metadata": {
    "ExecuteTime": {
     "end_time": "2024-08-03T09:39:59.189096Z",
     "start_time": "2024-08-03T09:38:52.437517Z"
    }
   },
   "cell_type": "code",
   "source": [
    "border_point = BorderPoint()\n",
    "# border_point.transposition(positions)\n",
    "\n",
    "# Tạo đường biên\n",
    "border_line = border_point.create_line_border_all(positions)\n",
    "\n",
    "# Điểm đặt lưới\n",
    "# point = [100, 100]\n",
    "trung_diem = [int(np.mean(np.array(border_line)[:,0])), int(np.mean(np.array(border_line)[:,1]))]\n",
    "\n",
    "# Tạo ma trận\n",
    "# mt = Matrix(border_line, point, grid_size)\n",
    "mt = Matrix(border_line, trung_diem, grid_size)\n",
    "matrix = mt.create_matrix()\n",
    "\n",
    "#  Lấy các phần tử là góc\n",
    "group = mt.getGroup(matrix)"
   ],
   "outputs": [
    {
     "name": "stdout",
     "output_type": "stream",
     "text": [
      "1\n",
      "2\n",
      "3\n",
      "4 DONE !\n",
      "(664, 634, 4)\n"
     ]
    }
   ],
   "execution_count": 79
  },
  {
   "metadata": {},
   "cell_type": "markdown",
   "source": "TỔNG SỐ MẢNH"
  },
  {
   "metadata": {
    "ExecuteTime": {
     "end_time": "2024-08-03T09:39:59.204858Z",
     "start_time": "2024-08-03T09:39:59.191379Z"
    }
   },
   "cell_type": "code",
   "source": [
    "# x: horizontal, y: vertical, v: value, g: group\n",
    "group"
   ],
   "outputs": [
    {
     "data": {
      "text/plain": [
       "[[50, 40, 2, 1],\n",
       " [50.0, 140.0, 2, 1],\n",
       " [70, 420, 2, 14],\n",
       " [70.0, 450.0, 2, 14],\n",
       " [70, 450, 2, 17],\n",
       " [70.0, 530.0, 2, 17],\n",
       " [88.0, 40.0, 2, 1],\n",
       " [88.0, 140.0, 2, 1],\n",
       " [88.0, 420.0, 2, 14],\n",
       " [88.0, 450.0, 2, 14],\n",
       " [88.0, 450.0, 2, 17],\n",
       " [88.0, 530.0, 2, 17],\n",
       " [88, 40, 2, 2],\n",
       " [88.0, 140.0, 2, 2],\n",
       " [88, 420, 2, 15],\n",
       " [88.0, 450.0, 2, 15],\n",
       " [88, 450, 2, 18],\n",
       " [88.0, 530.0, 2, 18],\n",
       " [150.0, 140.0, 2, 2],\n",
       " [150.0, 150.0, 2, 2],\n",
       " [150, 150, 2, 6],\n",
       " [150.0, 300.0, 2, 6],\n",
       " [150, 300, 2, 15],\n",
       " [150.0, 420.0, 2.0, 15],\n",
       " [210.0, 530.0, 2, 18],\n",
       " [210.0, 600.0, 2, 18],\n",
       " [210, 600, 2, 22],\n",
       " [210.0, 630.0, 2, 22],\n",
       " [238.0, 40.0, 2, 2],\n",
       " [238.0, 150.0, 2, 2],\n",
       " [238.0, 150.0, 2, 6],\n",
       " [238.0, 300.0, 2, 6],\n",
       " [238.0, 300.0, 2, 15],\n",
       " [238.0, 450.0, 2, 15],\n",
       " [238.0, 450.0, 2, 18],\n",
       " [238.0, 600.0, 2, 18],\n",
       " [238.0, 600.0, 2, 22],\n",
       " [238.0, 630.0, 2, 22],\n",
       " [238, 40, 2, 3],\n",
       " [238.0, 150.0, 2, 3],\n",
       " [238, 150, 2, 7],\n",
       " [238.0, 300.0, 2, 7],\n",
       " [238, 300, 2, 12],\n",
       " [238.0, 450.0, 2, 12],\n",
       " [238, 450, 2, 19],\n",
       " [238.0, 600.0, 2, 19],\n",
       " [238, 600, 2, 23],\n",
       " [238.0, 630.0, 2, 23],\n",
       " [388.0, 40.0, 2, 3],\n",
       " [388.0, 150.0, 2, 3],\n",
       " [388.0, 150.0, 2, 7],\n",
       " [388.0, 300.0, 2, 7],\n",
       " [388.0, 300.0, 2, 12],\n",
       " [388.0, 450.0, 2, 12],\n",
       " [388.0, 450.0, 2, 19],\n",
       " [388.0, 600.0, 2, 19],\n",
       " [388.0, 600.0, 2, 23],\n",
       " [388.0, 630.0, 2, 23],\n",
       " [388, 40, 2, 4],\n",
       " [388.0, 150.0, 2, 4],\n",
       " [388, 150, 2, 8],\n",
       " [388.0, 300.0, 2, 8],\n",
       " [388, 300, 2, 13],\n",
       " [388.0, 450.0, 2, 13],\n",
       " [388, 450, 2, 20],\n",
       " [388.0, 600.0, 2, 20],\n",
       " [388, 600, 2, 24],\n",
       " [388.0, 630.0, 2, 24],\n",
       " [430.0, 60.0, 2, 4],\n",
       " [430.0, 100.0, 2, 4],\n",
       " [520.0, 100.0, 2, 4],\n",
       " [520.0, 150.0, 2, 4],\n",
       " [520.0, 150.0, 2, 8],\n",
       " [520.0, 220.0, 2, 8],\n",
       " [520.0, 300.0, 2, 8],\n",
       " [520.0, 300.0, 2, 13],\n",
       " [520.0, 440.0, 2, 13],\n",
       " [520.0, 150.0, 2.0, 8],\n",
       " [538.0, 40.0, 2, 4],\n",
       " [538.0, 60.0, 2, 4],\n",
       " [538.0, 150.0, 2, 8],\n",
       " [538.0, 220.0, 2, 8],\n",
       " [538.0, 440.0, 2, 13],\n",
       " [538.0, 450.0, 2, 13],\n",
       " [538.0, 450.0, 2, 20],\n",
       " [538.0, 600.0, 2, 20],\n",
       " [538.0, 600.0, 2, 24],\n",
       " [538.0, 630.0, 2, 24],\n",
       " [538, 40, 2, 5],\n",
       " [538.0, 60.0, 2, 5],\n",
       " [538, 150, 2, 9],\n",
       " [538.0, 220.0, 2, 9],\n",
       " [538, 440, 2, 16],\n",
       " [538.0, 450.0, 2, 16],\n",
       " [538, 450, 2, 21],\n",
       " [538.0, 600.0, 2, 21],\n",
       " [538, 600, 2, 25],\n",
       " [538.0, 630.0, 2, 25],\n",
       " [550.0, 220.0, 2, 9],\n",
       " [550.0, 280.0, 2, 9],\n",
       " [580.0, 40.0, 2, 5],\n",
       " [580.0, 60.0, 2, 5],\n",
       " [600.0, 150.0, 2, 9],\n",
       " [600.0, 220.0, 2, 9],\n",
       " [620, 180, 2, 9],\n",
       " [620.0, 220.0, 2.0, 9],\n",
       " [650.0, 440.0, 2, 16],\n",
       " [650.0, 450.0, 2, 16],\n",
       " [650.0, 450.0, 2, 21],\n",
       " [650.0, 600.0, 2, 21],\n",
       " [650.0, 600.0, 2, 25],\n",
       " [650.0, 630.0, 2, 25],\n",
       " [660.0, 180.0, 2, 9],\n",
       " [660.0, 280.0, 2, 9]]"
      ]
     },
     "execution_count": 80,
     "metadata": {},
     "output_type": "execute_result"
    }
   ],
   "execution_count": 80
  },
  {
   "metadata": {},
   "cell_type": "markdown",
   "source": "SỐ LƯỢNG MẢNH"
  },
  {
   "metadata": {
    "ExecuteTime": {
     "end_time": "2024-08-03T09:39:59.219880Z",
     "start_time": "2024-08-03T09:39:59.206853Z"
    }
   },
   "cell_type": "code",
   "source": [
    "st = State(group)\n",
    "f\"Có tất cả: {len(st.state_sort)} mảnh\""
   ],
   "outputs": [
    {
     "data": {
      "text/plain": [
       "'Có tất cả: 23 mảnh'"
      ]
     },
     "execution_count": 81,
     "metadata": {},
     "output_type": "execute_result"
    }
   ],
   "execution_count": 81
  },
  {
   "metadata": {},
   "cell_type": "markdown",
   "source": "SỐ LƯỢNG GÓC CỦA MỖI MẢNH"
  },
  {
   "metadata": {
    "ExecuteTime": {
     "end_time": "2024-08-03T09:39:59.235776Z",
     "start_time": "2024-08-03T09:39:59.222811Z"
    }
   },
   "cell_type": "code",
   "source": [
    "# x: horizontal, y: vertical, v: value, g: group\n",
    "[f'Số góc: {len(pos)}: {pos}' for pos in st.state_sort]"
   ],
   "outputs": [
    {
     "data": {
      "text/plain": [
       "['Số góc: 4: [[50, 40, 2, 1], [50, 140, 2, 1], [88, 140, 2, 1], [88, 40, 2, 1]]',\n",
       " 'Số góc: 6: [[88, 40, 2, 2], [88, 140, 2, 2], [150, 140, 2, 2], [150, 150, 2, 2], [238, 150, 2, 2], [238, 40, 2, 2]]',\n",
       " 'Số góc: 4: [[238, 40, 2, 3], [238, 150, 2, 3], [388, 150, 2, 3], [388, 40, 2, 3]]',\n",
       " 'Số góc: 8: [[388, 40, 2, 4], [388, 150, 2, 4], [520, 150, 2, 4], [520, 100, 2, 4], [430, 100, 2, 4], [430, 60, 2, 4], [538, 60, 2, 4], [538, 40, 2, 4]]',\n",
       " 'Số góc: 4: [[538, 40, 2, 5], [538, 60, 2, 5], [580, 60, 2, 5], [580, 40, 2, 5]]',\n",
       " 'Số góc: 4: [[150, 150, 2, 6], [150, 300, 2, 6], [238, 300, 2, 6], [238, 150, 2, 6]]',\n",
       " 'Số góc: 4: [[238, 150, 2, 7], [238, 300, 2, 7], [388, 300, 2, 7], [388, 150, 2, 7]]',\n",
       " 'Số góc: 8: [[388, 150, 2, 8], [388, 300, 2, 8], [520, 300, 2, 8], [520, 150, 2, 8], [520, 220, 2, 8], [520, 150, 2, 8], [538, 150, 2, 8], [538, 220, 2, 8]]',\n",
       " 'Số góc: 10: [[538, 150, 2, 9], [538, 220, 2, 9], [550, 220, 2, 9], [550, 280, 2, 9], [660, 280, 2, 9], [660, 180, 2, 9], [620, 180, 2, 9], [620, 220, 2, 9], [600, 220, 2, 9], [600, 150, 2, 9]]',\n",
       " 'Số góc: 4: [[238, 300, 2, 12], [238, 450, 2, 12], [388, 450, 2, 12], [388, 300, 2, 12]]',\n",
       " 'Số góc: 6: [[388, 300, 2, 13], [388, 450, 2, 13], [538, 450, 2, 13], [538, 440, 2, 13], [520, 440, 2, 13], [520, 300, 2, 13]]',\n",
       " 'Số góc: 4: [[70, 420, 2, 14], [70, 450, 2, 14], [88, 450, 2, 14], [88, 420, 2, 14]]',\n",
       " 'Số góc: 6: [[88, 420, 2, 15], [88, 450, 2, 15], [238, 450, 2, 15], [238, 300, 2, 15], [150, 300, 2, 15], [150, 420, 2, 15]]',\n",
       " 'Số góc: 4: [[538, 440, 2, 16], [538, 450, 2, 16], [650, 450, 2, 16], [650, 440, 2, 16]]',\n",
       " 'Số góc: 4: [[70, 450, 2, 17], [70, 530, 2, 17], [88, 530, 2, 17], [88, 450, 2, 17]]',\n",
       " 'Số góc: 6: [[88, 450, 2, 18], [88, 530, 2, 18], [210, 530, 2, 18], [210, 600, 2, 18], [238, 600, 2, 18], [238, 450, 2, 18]]',\n",
       " 'Số góc: 4: [[238, 450, 2, 19], [238, 600, 2, 19], [388, 600, 2, 19], [388, 450, 2, 19]]',\n",
       " 'Số góc: 4: [[388, 450, 2, 20], [388, 600, 2, 20], [538, 600, 2, 20], [538, 450, 2, 20]]',\n",
       " 'Số góc: 4: [[538, 450, 2, 21], [538, 600, 2, 21], [650, 600, 2, 21], [650, 450, 2, 21]]',\n",
       " 'Số góc: 4: [[210, 600, 2, 22], [210, 630, 2, 22], [238, 630, 2, 22], [238, 600, 2, 22]]',\n",
       " 'Số góc: 4: [[238, 600, 2, 23], [238, 630, 2, 23], [388, 630, 2, 23], [388, 600, 2, 23]]',\n",
       " 'Số góc: 4: [[388, 600, 2, 24], [388, 630, 2, 24], [538, 630, 2, 24], [538, 600, 2, 24]]',\n",
       " 'Số góc: 4: [[538, 600, 2, 25], [538, 630, 2, 25], [650, 630, 2, 25], [650, 600, 2, 25]]']"
      ]
     },
     "execution_count": 82,
     "metadata": {},
     "output_type": "execute_result"
    }
   ],
   "execution_count": 82
  },
  {
   "metadata": {},
   "cell_type": "markdown",
   "source": "TẠO CORE"
  },
  {
   "metadata": {
    "ExecuteTime": {
     "end_time": "2024-08-03T09:39:59.360982Z",
     "start_time": "2024-08-03T09:39:59.236938Z"
    }
   },
   "cell_type": "code",
   "source": [
    "list_cross = ListCross()\n",
    "\n",
    "# # Điểm tọa độ từ \n",
    "# shape_pieces_1 = st.find_group(1)\n",
    "# # Điểm tọa độ đến\n",
    "# shape_pieces_2 = st.find_group(len(st.state_sort) + 1)\n",
    "# \n",
    "# print(f'Nhóm 1: {shape_pieces_1}\\nNhóm 2: {shape_pieces_2}')\n",
    "# print(f'Vùng muốn tạo các ngã tư, bắt đầu từ: {min(shape_pieces_1)} đến {max(shape_pieces_2)}')\n",
    "\n",
    "# # tạo các ngã tư\n",
    "# cores = list_cross.create_cores(matrix, shape_pieces_1, shape_pieces_2)\n",
    "crossroads = list_cross.create_cross(matrix, positions, positions)\n"
   ],
   "outputs": [],
   "execution_count": 83
  },
  {
   "metadata": {},
   "cell_type": "markdown",
   "source": "SỐ LƯỢNG NGÃ TƯ VÀ LOẠI NGÃ TƯ"
  },
  {
   "metadata": {
    "ExecuteTime": {
     "end_time": "2024-08-03T09:39:59.392422Z",
     "start_time": "2024-08-03T09:39:59.362972Z"
    }
   },
   "cell_type": "code",
   "source": [
    "print(len(crossroads))\n",
    "[cross.values() for cross in crossroads]"
   ],
   "outputs": [
    {
     "name": "stdout",
     "output_type": "stream",
     "text": [
      "58\n"
     ]
    },
    {
     "data": {
      "text/plain": [
       "[[[50, 40], False, True, True, False],\n",
       " [[50, 140], True, True, False, False],\n",
       " [[70, 420], False, True, True, False],\n",
       " [[70, 450], True, True, True, False],\n",
       " [[70, 530], True, True, False, False],\n",
       " [[88, 40], False, True, True, True],\n",
       " [[88, 140], True, True, False, True],\n",
       " [[88, 420], False, True, True, True],\n",
       " [[88, 450], True, True, True, True],\n",
       " [[88, 530], True, True, False, True],\n",
       " [[150, 140], False, False, True, True],\n",
       " [[150, 150], True, True, True, False],\n",
       " [[150, 300], True, True, True, False],\n",
       " [[150, 420], True, False, False, True],\n",
       " [[210, 530], False, False, True, True],\n",
       " [[210, 600], True, True, True, False],\n",
       " [[210, 630], True, True, False, False],\n",
       " [[238, 40], False, True, True, True],\n",
       " [[238, 150], True, True, True, True],\n",
       " [[238, 300], True, True, True, True],\n",
       " [[238, 450], True, True, True, True],\n",
       " [[238, 600], True, True, True, True],\n",
       " [[238, 630], True, True, False, True],\n",
       " [[388, 40], False, True, True, True],\n",
       " [[388, 150], True, True, True, True],\n",
       " [[388, 300], True, True, True, True],\n",
       " [[388, 450], True, True, True, True],\n",
       " [[388, 600], True, True, True, True],\n",
       " [[388, 630], True, True, False, True],\n",
       " [[430, 60], False, True, True, False],\n",
       " [[430, 100], True, True, False, False],\n",
       " [[520, 100], False, False, True, True],\n",
       " [[520, 150], True, True, False, True],\n",
       " [[520, 220], False, True, True, False],\n",
       " [[520, 300], True, False, True, True],\n",
       " [[520, 440], True, True, False, False],\n",
       " [[538, 40], False, True, True, True],\n",
       " [[538, 60], True, True, False, True],\n",
       " [[538, 150], False, True, True, True],\n",
       " [[538, 220], True, True, False, True],\n",
       " [[538, 440], False, True, True, True],\n",
       " [[538, 450], True, True, True, True],\n",
       " [[538, 600], True, True, True, True],\n",
       " [[538, 630], True, True, False, True],\n",
       " [[550, 220], False, False, True, True],\n",
       " [[550, 280], True, True, False, False],\n",
       " [[580, 40], False, False, True, True],\n",
       " [[580, 60], True, False, False, True],\n",
       " [[600, 150], False, False, True, True],\n",
       " [[600, 220], True, True, False, False],\n",
       " [[620, 180], False, True, True, False],\n",
       " [[620, 220], True, False, False, True],\n",
       " [[650, 440], False, False, True, True],\n",
       " [[650, 450], True, False, True, True],\n",
       " [[650, 600], True, False, True, True],\n",
       " [[650, 630], True, False, False, True],\n",
       " [[660, 180], False, False, True, True],\n",
       " [[660, 280], True, False, False, True]]"
      ]
     },
     "execution_count": 84,
     "metadata": {},
     "output_type": "execute_result"
    }
   ],
   "execution_count": 84
  },
  {
   "metadata": {
    "ExecuteTime": {
     "end_time": "2024-08-03T09:39:59.408201Z",
     "start_time": "2024-08-03T09:39:59.393712Z"
    }
   },
   "cell_type": "code",
   "source": [
    "print('LIST CROSS')\n",
    "[cross.show() for cross in crossroads]"
   ],
   "outputs": [
    {
     "name": "stdout",
     "output_type": "stream",
     "text": [
      "LIST CROSS\n"
     ]
    },
    {
     "data": {
      "text/plain": [
       "['[50, 40]: 2 =>BOTTOM RIGHT ',\n",
       " '[50, 140]: 2 =>TOP RIGHT ',\n",
       " '[70, 420]: 2 =>BOTTOM RIGHT ',\n",
       " '[70, 450]: 3 =>TOP BOTTOM RIGHT ',\n",
       " '[70, 530]: 2 =>TOP RIGHT ',\n",
       " '[88, 40]: 3 =>BOTTOM LEFT RIGHT ',\n",
       " '[88, 140]: 3 =>TOP LEFT RIGHT ',\n",
       " '[88, 420]: 3 =>BOTTOM LEFT RIGHT ',\n",
       " '[88, 450]: 4 =>TOP BOTTOM LEFT RIGHT ',\n",
       " '[88, 530]: 3 =>TOP LEFT RIGHT ',\n",
       " '[150, 140]: 2 =>BOTTOM LEFT ',\n",
       " '[150, 150]: 3 =>TOP BOTTOM RIGHT ',\n",
       " '[150, 300]: 3 =>TOP BOTTOM RIGHT ',\n",
       " '[150, 420]: 2 =>TOP LEFT ',\n",
       " '[210, 530]: 2 =>BOTTOM LEFT ',\n",
       " '[210, 600]: 3 =>TOP BOTTOM RIGHT ',\n",
       " '[210, 630]: 2 =>TOP RIGHT ',\n",
       " '[238, 40]: 3 =>BOTTOM LEFT RIGHT ',\n",
       " '[238, 150]: 4 =>TOP BOTTOM LEFT RIGHT ',\n",
       " '[238, 300]: 4 =>TOP BOTTOM LEFT RIGHT ',\n",
       " '[238, 450]: 4 =>TOP BOTTOM LEFT RIGHT ',\n",
       " '[238, 600]: 4 =>TOP BOTTOM LEFT RIGHT ',\n",
       " '[238, 630]: 3 =>TOP LEFT RIGHT ',\n",
       " '[388, 40]: 3 =>BOTTOM LEFT RIGHT ',\n",
       " '[388, 150]: 4 =>TOP BOTTOM LEFT RIGHT ',\n",
       " '[388, 300]: 4 =>TOP BOTTOM LEFT RIGHT ',\n",
       " '[388, 450]: 4 =>TOP BOTTOM LEFT RIGHT ',\n",
       " '[388, 600]: 4 =>TOP BOTTOM LEFT RIGHT ',\n",
       " '[388, 630]: 3 =>TOP LEFT RIGHT ',\n",
       " '[430, 60]: 2 =>BOTTOM RIGHT ',\n",
       " '[430, 100]: 2 =>TOP RIGHT ',\n",
       " '[520, 100]: 2 =>BOTTOM LEFT ',\n",
       " '[520, 150]: 3 =>TOP LEFT RIGHT ',\n",
       " '[520, 220]: 2 =>BOTTOM RIGHT ',\n",
       " '[520, 300]: 3 =>TOP BOTTOM LEFT ',\n",
       " '[520, 440]: 2 =>TOP RIGHT ',\n",
       " '[538, 40]: 3 =>BOTTOM LEFT RIGHT ',\n",
       " '[538, 60]: 3 =>TOP LEFT RIGHT ',\n",
       " '[538, 150]: 3 =>BOTTOM LEFT RIGHT ',\n",
       " '[538, 220]: 3 =>TOP LEFT RIGHT ',\n",
       " '[538, 440]: 3 =>BOTTOM LEFT RIGHT ',\n",
       " '[538, 450]: 4 =>TOP BOTTOM LEFT RIGHT ',\n",
       " '[538, 600]: 4 =>TOP BOTTOM LEFT RIGHT ',\n",
       " '[538, 630]: 3 =>TOP LEFT RIGHT ',\n",
       " '[550, 220]: 2 =>BOTTOM LEFT ',\n",
       " '[550, 280]: 2 =>TOP RIGHT ',\n",
       " '[580, 40]: 2 =>BOTTOM LEFT ',\n",
       " '[580, 60]: 2 =>TOP LEFT ',\n",
       " '[600, 150]: 2 =>BOTTOM LEFT ',\n",
       " '[600, 220]: 2 =>TOP RIGHT ',\n",
       " '[620, 180]: 2 =>BOTTOM RIGHT ',\n",
       " '[620, 220]: 2 =>TOP LEFT ',\n",
       " '[650, 440]: 2 =>BOTTOM LEFT ',\n",
       " '[650, 450]: 3 =>TOP BOTTOM LEFT ',\n",
       " '[650, 600]: 3 =>TOP BOTTOM LEFT ',\n",
       " '[650, 630]: 2 =>TOP LEFT ',\n",
       " '[660, 180]: 2 =>BOTTOM LEFT ',\n",
       " '[660, 280]: 2 =>TOP LEFT ']"
      ]
     },
     "execution_count": 85,
     "metadata": {},
     "output_type": "execute_result"
    }
   ],
   "execution_count": 85
  },
  {
   "metadata": {},
   "cell_type": "markdown",
   "source": "TRỰC QUAN"
  },
  {
   "metadata": {
    "ExecuteTime": {
     "end_time": "2024-08-03T09:40:04.793954Z",
     "start_time": "2024-08-03T09:39:59.410197Z"
    }
   },
   "cell_type": "code",
   "source": [
    "image = np.ones((700, 700, 3), np.uint8) * 255\n",
    "\n",
    "cv2.line(image, trung_diem, trung_diem, (200,200,0),20)\n",
    "\n",
    "for arr in matrix:\n",
    "    for x,y,v,g in arr:\n",
    "        x, y, v, g = int(x), int(y), int(v), int(g)\n",
    "        if v == 2:\n",
    "            cv2.line(image, (x,y), (x,y), (0,0,0),3)\n",
    "        if v == 1:\n",
    "            cv2.line(image, (x,y), (x,y), (100,100,100),1)\n",
    "            \n",
    "for arr in matrix:\n",
    "    for x,y,v,g in arr:\n",
    "        x, y, v, g = int(x), int(y), int(v), int(g)\n",
    "        if v == 2:\n",
    "            list = [cross for cross in crossroads if cross.point == [x, y]]\n",
    "            for c in list:\n",
    "                if c:\n",
    "                    length = 5\n",
    "                    think = 2\n",
    "                    if c.TOP:\n",
    "                        cv2.line(image, (x,y), (x,y - length), (0,0,255),think)\n",
    "                    if c.RIGHT:\n",
    "                        cv2.line(image, (x,y), (x + length,y), (0,0,255),think)\n",
    "                    if c.BOTTOM:\n",
    "                        cv2.line(image, (x,y), (x,y + length), (0,0,255),think)\n",
    "                    if c.LEFT:\n",
    "                        cv2.line(image, (x,y), (x - length,y), (0,0,255),think)\n",
    "\n",
    "while True:\n",
    "    cv2.imshow('Brick', image)\n",
    "    if cv2.waitKey(20) & 0xFF == 27:\n",
    "        break\n",
    "\n",
    "cv2.destroyAllWindows()"
   ],
   "outputs": [],
   "execution_count": 86
  },
  {
   "metadata": {
    "ExecuteTime": {
     "end_time": "2024-08-03T09:40:04.825027Z",
     "start_time": "2024-08-03T09:40:04.795572Z"
    }
   },
   "cell_type": "code",
   "source": [
    "crossroads_show = np.array([[cross.point[0], cross.point[1] ,cross.TOP, cross.RIGHT, cross.BOTTOM, cross.LEFT] for cross in crossroads])\n",
    "crossroads_show"
   ],
   "outputs": [
    {
     "data": {
      "text/plain": [
       "array([[ 50,  40,   0,   1,   1,   0],\n",
       "       [ 50, 140,   1,   1,   0,   0],\n",
       "       [ 70, 420,   0,   1,   1,   0],\n",
       "       [ 70, 450,   1,   1,   1,   0],\n",
       "       [ 70, 530,   1,   1,   0,   0],\n",
       "       [ 88,  40,   0,   1,   1,   1],\n",
       "       [ 88, 140,   1,   1,   0,   1],\n",
       "       [ 88, 420,   0,   1,   1,   1],\n",
       "       [ 88, 450,   1,   1,   1,   1],\n",
       "       [ 88, 530,   1,   1,   0,   1],\n",
       "       [150, 140,   0,   0,   1,   1],\n",
       "       [150, 150,   1,   1,   1,   0],\n",
       "       [150, 300,   1,   1,   1,   0],\n",
       "       [150, 420,   1,   0,   0,   1],\n",
       "       [210, 530,   0,   0,   1,   1],\n",
       "       [210, 600,   1,   1,   1,   0],\n",
       "       [210, 630,   1,   1,   0,   0],\n",
       "       [238,  40,   0,   1,   1,   1],\n",
       "       [238, 150,   1,   1,   1,   1],\n",
       "       [238, 300,   1,   1,   1,   1],\n",
       "       [238, 450,   1,   1,   1,   1],\n",
       "       [238, 600,   1,   1,   1,   1],\n",
       "       [238, 630,   1,   1,   0,   1],\n",
       "       [388,  40,   0,   1,   1,   1],\n",
       "       [388, 150,   1,   1,   1,   1],\n",
       "       [388, 300,   1,   1,   1,   1],\n",
       "       [388, 450,   1,   1,   1,   1],\n",
       "       [388, 600,   1,   1,   1,   1],\n",
       "       [388, 630,   1,   1,   0,   1],\n",
       "       [430,  60,   0,   1,   1,   0],\n",
       "       [430, 100,   1,   1,   0,   0],\n",
       "       [520, 100,   0,   0,   1,   1],\n",
       "       [520, 150,   1,   1,   0,   1],\n",
       "       [520, 220,   0,   1,   1,   0],\n",
       "       [520, 300,   1,   0,   1,   1],\n",
       "       [520, 440,   1,   1,   0,   0],\n",
       "       [538,  40,   0,   1,   1,   1],\n",
       "       [538,  60,   1,   1,   0,   1],\n",
       "       [538, 150,   0,   1,   1,   1],\n",
       "       [538, 220,   1,   1,   0,   1],\n",
       "       [538, 440,   0,   1,   1,   1],\n",
       "       [538, 450,   1,   1,   1,   1],\n",
       "       [538, 600,   1,   1,   1,   1],\n",
       "       [538, 630,   1,   1,   0,   1],\n",
       "       [550, 220,   0,   0,   1,   1],\n",
       "       [550, 280,   1,   1,   0,   0],\n",
       "       [580,  40,   0,   0,   1,   1],\n",
       "       [580,  60,   1,   0,   0,   1],\n",
       "       [600, 150,   0,   0,   1,   1],\n",
       "       [600, 220,   1,   1,   0,   0],\n",
       "       [620, 180,   0,   1,   1,   0],\n",
       "       [620, 220,   1,   0,   0,   1],\n",
       "       [650, 440,   0,   0,   1,   1],\n",
       "       [650, 450,   1,   0,   1,   1],\n",
       "       [650, 600,   1,   0,   1,   1],\n",
       "       [650, 630,   1,   0,   0,   1],\n",
       "       [660, 180,   0,   0,   1,   1],\n",
       "       [660, 280,   1,   0,   0,   1]])"
      ]
     },
     "execution_count": 87,
     "metadata": {},
     "output_type": "execute_result"
    }
   ],
   "execution_count": 87
  },
  {
   "metadata": {
    "ExecuteTime": {
     "end_time": "2024-08-03T09:40:04.855171Z",
     "start_time": "2024-08-03T09:40:04.829017Z"
    }
   },
   "cell_type": "code",
   "source": "crossroads_show",
   "outputs": [
    {
     "data": {
      "text/plain": [
       "array([[ 50,  40,   0,   1,   1,   0],\n",
       "       [ 50, 140,   1,   1,   0,   0],\n",
       "       [ 70, 420,   0,   1,   1,   0],\n",
       "       [ 70, 450,   1,   1,   1,   0],\n",
       "       [ 70, 530,   1,   1,   0,   0],\n",
       "       [ 88,  40,   0,   1,   1,   1],\n",
       "       [ 88, 140,   1,   1,   0,   1],\n",
       "       [ 88, 420,   0,   1,   1,   1],\n",
       "       [ 88, 450,   1,   1,   1,   1],\n",
       "       [ 88, 530,   1,   1,   0,   1],\n",
       "       [150, 140,   0,   0,   1,   1],\n",
       "       [150, 150,   1,   1,   1,   0],\n",
       "       [150, 300,   1,   1,   1,   0],\n",
       "       [150, 420,   1,   0,   0,   1],\n",
       "       [210, 530,   0,   0,   1,   1],\n",
       "       [210, 600,   1,   1,   1,   0],\n",
       "       [210, 630,   1,   1,   0,   0],\n",
       "       [238,  40,   0,   1,   1,   1],\n",
       "       [238, 150,   1,   1,   1,   1],\n",
       "       [238, 300,   1,   1,   1,   1],\n",
       "       [238, 450,   1,   1,   1,   1],\n",
       "       [238, 600,   1,   1,   1,   1],\n",
       "       [238, 630,   1,   1,   0,   1],\n",
       "       [388,  40,   0,   1,   1,   1],\n",
       "       [388, 150,   1,   1,   1,   1],\n",
       "       [388, 300,   1,   1,   1,   1],\n",
       "       [388, 450,   1,   1,   1,   1],\n",
       "       [388, 600,   1,   1,   1,   1],\n",
       "       [388, 630,   1,   1,   0,   1],\n",
       "       [430,  60,   0,   1,   1,   0],\n",
       "       [430, 100,   1,   1,   0,   0],\n",
       "       [520, 100,   0,   0,   1,   1],\n",
       "       [520, 150,   1,   1,   0,   1],\n",
       "       [520, 220,   0,   1,   1,   0],\n",
       "       [520, 300,   1,   0,   1,   1],\n",
       "       [520, 440,   1,   1,   0,   0],\n",
       "       [538,  40,   0,   1,   1,   1],\n",
       "       [538,  60,   1,   1,   0,   1],\n",
       "       [538, 150,   0,   1,   1,   1],\n",
       "       [538, 220,   1,   1,   0,   1],\n",
       "       [538, 440,   0,   1,   1,   1],\n",
       "       [538, 450,   1,   1,   1,   1],\n",
       "       [538, 600,   1,   1,   1,   1],\n",
       "       [538, 630,   1,   1,   0,   1],\n",
       "       [550, 220,   0,   0,   1,   1],\n",
       "       [550, 280,   1,   1,   0,   0],\n",
       "       [580,  40,   0,   0,   1,   1],\n",
       "       [580,  60,   1,   0,   0,   1],\n",
       "       [600, 150,   0,   0,   1,   1],\n",
       "       [600, 220,   1,   1,   0,   0],\n",
       "       [620, 180,   0,   1,   1,   0],\n",
       "       [620, 220,   1,   0,   0,   1],\n",
       "       [650, 440,   0,   0,   1,   1],\n",
       "       [650, 450,   1,   0,   1,   1],\n",
       "       [650, 600,   1,   0,   1,   1],\n",
       "       [650, 630,   1,   0,   0,   1],\n",
       "       [660, 180,   0,   0,   1,   1],\n",
       "       [660, 280,   1,   0,   0,   1]])"
      ]
     },
     "execution_count": 88,
     "metadata": {},
     "output_type": "execute_result"
    }
   ],
   "execution_count": 88
  },
  {
   "metadata": {
    "ExecuteTime": {
     "end_time": "2024-08-03T09:40:33.971476Z",
     "start_time": "2024-08-03T09:40:32.864202Z"
    }
   },
   "cell_type": "code",
   "source": [
    "khuon_x = np.array(positions)[:,0]\n",
    "khuon_y = np.array(positions)[:,1]\n",
    "\n",
    "plt.subplots(figsize=(8,8))\n",
    "arr_edges = []\n",
    "\n",
    "plt.plot(khuon_x, khuon_y, marker='o', lw=1, label='Đoạn thẳng 1')\n",
    "\n",
    "for c in crossroads:\n",
    "    if c:\n",
    "        point = c.point\n",
    "        lw = 2\n",
    "        length = 7\n",
    "        color = 'red'\n",
    "        if c.TOP:\n",
    "            plt.vlines(point[0],point[1], point[1]-length, color=color, lw=lw)\n",
    "        if c.RIGHT:\n",
    "            plt.hlines(point[1],point[0], point[0]+length, color=color, lw=lw)\n",
    "        if c.BOTTOM:\n",
    "            plt.vlines(point[0],point[1], point[1]+length, color=color, lw=lw)\n",
    "        if c.LEFT:\n",
    "            plt.hlines(point[1],point[0], point[0]-length, color=color, lw=lw)\n",
    "        \n",
    "# Đặt tên cho trục x và y\n",
    "plt.xlabel('Trục x')\n",
    "plt.ylabel('Trục y')\n",
    "\n",
    "plt.axis([0, 700 , 0, 700])\n",
    "# Hiển thị đồ thị\n",
    "plt.grid(True)\n",
    "# plt.legend()\n",
    "plt.show()\n"
   ],
   "outputs": [
    {
     "data": {
      "text/plain": [
       "<Figure size 800x800 with 1 Axes>"
      ],
      "image/png": "[encoded data removed]"
     },
     "metadata": {},
     "output_type": "display_data"
    }
   ],
   "execution_count": 90
  }
 ],
 "metadata": {
  "kernelspec": {
   "display_name": ".venv",
   "language": "python",
   "name": "python3"
  },
  "language_info": {
   "codemirror_mode": {
    "name": "ipython",
    "version": 3
   },
   "file_extension": ".py",
   "mimetype": "text/x-python",
   "name": "python",
   "nbconvert_exporter": "python",
   "pygments_lexer": "ipython3",
   "version": "3.8.10"
  }
 },
 "nbformat": 4,
 "nbformat_minor": 2
}
