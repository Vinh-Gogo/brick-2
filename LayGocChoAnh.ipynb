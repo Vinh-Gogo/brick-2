{
 "cells": [
  {
   "cell_type": "markdown",
   "metadata": {},
   "source": "### INPUT"
  },
  {
   "cell_type": "code",
   "metadata": {
    "ExecuteTime": {
     "end_time": "2024-07-31T13:26:42.791972Z",
     "start_time": "2024-07-31T13:26:42.769519Z"
    }
   },
   "source": [
    "# positions = [[50, 40], [580, 40], [580, 60], [430, 60], \n",
    "#                       [430, 100], [520, 100], [520, 150],[600, 150], [600, 200], [520, 200]\n",
    "#                       , [520, 440], [650, 440], [650, 630],\n",
    "#                       [210, 630], [210, 530], [70, 530], [70, 420],\n",
    "#                         [150, 420], [150, 140], [50, 140], [50, 40]]\n",
    "# # [ngang, dọc]\n",
    "# # grid_size = (60, 100)\n",
    "# positions = [[50, 40], [580, 40], [580, 60], [430, 60], \n",
    "#                       [430, 100], [520, 100], [520, 150],[600, 150], [600, 220], [620, 220],\n",
    "#                       [620, 180], [660, 180], [660, 280], \n",
    "#                       [550,280], [550,220], [520, 220], \n",
    "#                       [520, 440], [650, 440], [650, 630],\n",
    "#                       [210, 630], [210, 530], [70, 530], [70, 420], \n",
    "#                       [150, 420], [150, 140], [50, 140], [50, 40]]\n",
    "positions = [[60, 60], [270, 60], [270, 270], [60, 270], [60, 60]]\n",
    "grid_size = [50, 100]\n",
    "# positions = [[50, 40], [150, 40], [150, 120], [350, 120], \n",
    "#              [350, 60], [400, 60], [400, 200], [500, 200], \n",
    "#              [500, 500], [50, 500], [50, 40]]"
   ],
   "outputs": [],
   "execution_count": 1
  },
  {
   "cell_type": "markdown",
   "metadata": {},
   "source": "### CREATE BORDER LINE"
  },
  {
   "metadata": {
    "ExecuteTime": {
     "end_time": "2024-07-31T13:26:43.042259Z",
     "start_time": "2024-07-31T13:26:42.794976Z"
    }
   },
   "cell_type": "code",
   "source": [
    "import cv2\n",
    "import numpy as np\n",
    "from model.Models import BorderPoint\n",
    "from model.Models import Matrix\n",
    "from model.Models import State\n",
    "from model.Models import Point\n",
    "from model.Models import Core"
   ],
   "outputs": [],
   "execution_count": 2
  },
  {
   "cell_type": "code",
   "metadata": {
    "ExecuteTime": {
     "end_time": "2024-07-31T13:26:43.057841Z",
     "start_time": "2024-07-31T13:26:43.044358Z"
    }
   },
   "source": [
    "border_point = BorderPoint()\n",
    "border_line = border_point.create_line_border_all(positions)\n"
   ],
   "outputs": [],
   "execution_count": 3
  },
  {
   "cell_type": "code",
   "metadata": {
    "ExecuteTime": {
     "end_time": "2024-07-31T13:26:43.137663Z",
     "start_time": "2024-07-31T13:26:43.058836Z"
    }
   },
   "source": [
    "\n",
    "trung_diem = [int(np.mean(np.array(border_line)[:,0])), int(np.mean(np.array(border_line)[:,1]))]\n",
    "border1, border2, border3, border4 = border_point.create_line_border(trung_diem)"
   ],
   "outputs": [],
   "execution_count": 4
  },
  {
   "cell_type": "markdown",
   "metadata": {},
   "source": "#### CHECK BORDER LINE"
  },
  {
   "cell_type": "code",
   "metadata": {
    "ExecuteTime": {
     "end_time": "2024-07-31T13:26:43.167687Z",
     "start_time": "2024-07-31T13:26:43.140655Z"
    }
   },
   "source": [
    "\n",
    "image = np.ones((700, 1100, 3), np.uint8) * 255\n",
    "\n",
    "[cv2.line(image, (x,y), (x,y), (0,0,255), 3) for [x,y] in border1]\n",
    "[cv2.line(image, (x,y), (x,y), (200,200,200), 3) for [x,y] in border2]\n",
    "[cv2.line(image, (x,y), (x,y), (255,0,255), 3) for [x,y] in border3]\n",
    "[cv2.line(image, (x,y), (x,y), (100,255,255), 3) for [x,y] in border4]\n",
    "print()"
   ],
   "outputs": [
    {
     "name": "stdout",
     "output_type": "stream",
     "text": [
      "\n"
     ]
    }
   ],
   "execution_count": 5
  },
  {
   "cell_type": "markdown",
   "metadata": {},
   "source": "## CREATE MATRIX (1->Cạnh, 0->thịt, 2 -> Góc, None->Vùng ngoài)"
  },
  {
   "cell_type": "code",
   "metadata": {
    "ExecuteTime": {
     "end_time": "2024-07-31T13:26:46.200150Z",
     "start_time": "2024-07-31T13:26:43.169681Z"
    }
   },
   "source": [
    "trung_diem = [int(np.mean(np.array(border_line)[:,0])), int(np.mean(np.array(border_line)[:,1]))]\n",
    "border1, border2, border3, border4 = border_point.create_line_border(trung_diem)\n",
    "\n",
    "mt = Matrix()\n",
    "#  Tạo ma trận gồm 0, 1 và None\n",
    "matrix1, matrix2, matrix3, matrix4 = mt.create_matrix(trung_diem, grid_size, border_line, border1, border2, border3, border4)\n",
    "\n",
    "#  Tìm các đỉnh\n",
    "corners1 = mt.take_all_corners(matrix1)\n",
    "corners2 = mt.take_all_corners(matrix2)\n",
    "corners3 = mt.take_all_corners(matrix3)\n",
    "corners4 = mt.take_all_corners(matrix4)\n",
    "\n",
    "#  Thay đổi các dỉnh có giá trị 2 \n",
    "matrix1 = mt.add_corners_to_matrix(corners1, matrix1)\n",
    "matrix2 = mt.add_corners_to_matrix(corners2, matrix2)\n",
    "matrix3 = mt.add_corners_to_matrix(corners3, matrix3)\n",
    "matrix4 = mt.add_corners_to_matrix(corners4, matrix4)\n",
    "\n",
    "#  Đánh nhóm cho phần thịt của ma trận\n",
    "matrix1 = mt.label_group_for_0(matrix1)\n",
    "matrix2 = mt.label_group_for_0(matrix2)\n",
    "matrix3 = mt.label_group_for_0(matrix3)\n",
    "matrix4 = mt.label_group_for_0(matrix4)\n",
    "\n",
    "#  Gom nhóm các góc\n",
    "group1 = mt.getGroup(matrix1)\n",
    "group2 = mt.getGroup(matrix2)\n",
    "group3 = mt.getGroup(matrix3)\n",
    "group4 = mt.getGroup(matrix4)"
   ],
   "outputs": [
    {
     "name": "stdout",
     "output_type": "stream",
     "text": [
      "1\n",
      "2\n",
      "3\n",
      "4\n"
     ]
    }
   ],
   "execution_count": 6
  },
  {
   "metadata": {
    "ExecuteTime": {
     "end_time": "2024-07-31T13:26:46.215630Z",
     "start_time": "2024-07-31T13:26:46.201150Z"
    }
   },
   "cell_type": "code",
   "source": [
    "mmx = [max(np.array(border_line)[:, 0]) - min(np.array(border_line)[:, 0])]\n",
    "mmy = [max(np.array(border_line)[:, 1]) - min(np.array(border_line)[:, 1])]\n",
    "print('x',mmx, 'y',mmy)"
   ],
   "outputs": [
    {
     "name": "stdout",
     "output_type": "stream",
     "text": [
      "x [210] y [210]\n"
     ]
    }
   ],
   "execution_count": 7
  },
  {
   "metadata": {
    "ExecuteTime": {
     "end_time": "2024-07-31T13:26:46.450546Z",
     "start_time": "2024-07-31T13:26:46.218624Z"
    }
   },
   "cell_type": "code",
   "source": [
    "arr_top =  np.array(matrix1 + matrix2)\n",
    "arr_bottom = np.array(matrix3 + matrix4)\n",
    "matrix = np.concatenate((arr_top, arr_bottom), axis=1)\n",
    "matrix = mt.label_group_for_0(matrix)\n",
    "matrix.shape"
   ],
   "outputs": [
    {
     "data": {
      "text/plain": [
       "(211, 211, 4)"
      ]
     },
     "execution_count": 8,
     "metadata": {},
     "output_type": "execute_result"
    }
   ],
   "execution_count": 8
  },
  {
   "metadata": {
    "ExecuteTime": {
     "end_time": "2024-07-31T13:26:51.005420Z",
     "start_time": "2024-07-31T13:26:46.452677Z"
    }
   },
   "cell_type": "code",
   "source": [
    "\n",
    "image = np.ones((700, 700, 3), np.uint8) * 255\n",
    "for i in range(0, matrix.shape[0]):\n",
    "    for j in range(0, matrix.shape[1]):\n",
    "        cell = matrix[i,j]\n",
    "        cell_top = matrix[i-1,j]\n",
    "        x,y,val,gr = cell\n",
    "        x_,y_,val_,gr_ = cell_top\n",
    "        if cell[2] == 1:\n",
    "            cv2.line(image, (x,y), (x,y), (0,0,0),1)\n",
    "            # cv2.line(image, (x_,y_), (x_,y_), (0,0,255),5)\n",
    "        if val == 0 and (gr <= 25):\n",
    "            cv2.line(image, (x,y), (x,y), (10,230,200),1)\n",
    "        if val is None:\n",
    "            cv2.line(image, (x,y), (x,y), (200,230,200),1)\n",
    "            \n",
    "while True:\n",
    "    cv2.imshow('Brick', image)\n",
    "    if cv2.waitKey(20) & 0xFF == 27:\n",
    "        break\n",
    "\n",
    "cv2.destroyAllWindows()"
   ],
   "outputs": [],
   "execution_count": 9
  },
  {
   "metadata": {
    "ExecuteTime": {
     "end_time": "2024-07-31T13:26:51.021380Z",
     "start_time": "2024-07-31T13:26:51.009409Z"
    }
   },
   "cell_type": "code",
   "source": "",
   "outputs": [],
   "execution_count": 9
  },
  {
   "metadata": {},
   "cell_type": "markdown",
   "source": ""
  },
  {
   "metadata": {
    "ExecuteTime": {
     "end_time": "2024-07-31T13:26:51.037339Z",
     "start_time": "2024-07-31T13:26:51.023371Z"
    }
   },
   "cell_type": "code",
   "source": [
    "st = State(group1, group2, group3, group4)\n",
    "\n",
    "pieces_state1 = st.sort_state(st.state1)\n",
    "pieces_state2 = st.sort_state(st.state2)\n",
    "pieces_state3 = st.sort_state(st.state3)\n",
    "pieces_state4 = st.sort_state(st.state4)\n"
   ],
   "outputs": [],
   "execution_count": 10
  },
  {
   "metadata": {},
   "cell_type": "markdown",
   "source": "# GROUPING CORNERS OF 4 STATE"
  },
  {
   "metadata": {
    "ExecuteTime": {
     "end_time": "2024-07-31T13:26:51.068028Z",
     "start_time": "2024-07-31T13:26:51.038333Z"
    }
   },
   "cell_type": "code",
   "source": [
    "# check\n",
    "pieces_state_all = [[[x,y,v,g] for [x,y,v,g] in arr] for arr in pieces_state1 + pieces_state2 + pieces_state3 + pieces_state4] \n",
    "corners = []\n",
    "for arr in range(0, len(pieces_state_all)):\n",
    "    print(arr+1, pieces_state_all[arr])\n",
    "    for [x,y,v,g] in pieces_state_all[arr]:\n",
    "        corners.append([x,y])\n",
    "\n",
    "unique_pieces = []\n",
    "seen_coordinates = set()\n",
    "\n",
    "for x, y in corners:\n",
    "    if (x, y) not in seen_coordinates:\n",
    "        unique_pieces.append([x, y])\n",
    "        seen_coordinates.add((x, y))\n",
    "len(unique_pieces)"
   ],
   "outputs": [
    {
     "name": "stdout",
     "output_type": "stream",
     "text": [
      "1 [[165, 165, 2, 1], [165, 65, 2, 1], [115, 65, 2, 1], [115, 165, 2, 1], [165, 165, 2, 1]]\n",
      "2 [[115, 165, 2, 2], [115, 65, 2, 2], [65, 65, 2, 2], [65, 165, 2, 2], [115, 165, 2, 2]]\n",
      "3 [[65, 165, 2, 3], [65, 65, 2, 3], [60, 65, 2, 3], [60, 165, 2, 3], [65, 165, 2, 3]]\n",
      "4 [[165, 65, 2, 4], [165, 60, 2, 4], [115, 60, 2, 4], [115, 65, 2, 4], [165, 65, 2, 4]]\n",
      "5 [[115, 65, 2, 5], [115, 60, 2, 5], [65, 60, 2, 5], [65, 65, 2, 5], [115, 65, 2, 5]]\n",
      "6 [[65, 65, 2, 6], [65, 60, 2, 6], [60, 60, 2, 6], [60, 65, 2, 6], [65, 65, 2, 6]]\n",
      "7 [[270, 165, 2, 1], [270, 65, 2, 1], [215, 65, 2, 1], [215, 165, 2, 1], [270, 165, 2, 1]]\n",
      "8 [[215, 165, 2, 2], [215, 65, 2, 2], [265, 65, 2, 2], [265, 165, 2, 2], [215, 165, 2, 2]]\n",
      "9 [[265, 165, 2, 3], [265, 65, 2, 3], [270, 65, 2, 3], [270, 165, 2, 3], [265, 165, 2, 3]]\n",
      "10 [[270, 65, 2, 4], [270, 60, 2, 4], [215, 60, 2, 4], [215, 65, 2, 4], [270, 65, 2, 4]]\n",
      "11 [[215, 65, 2, 5], [215, 60, 2, 5], [265, 60, 2, 5], [265, 65, 2, 5], [215, 65, 2, 5]]\n",
      "12 [[265, 65, 2, 6], [265, 60, 2, 6], [270, 60, 2, 6], [270, 65, 2, 6], [265, 65, 2, 6]]\n",
      "13 [[270, 270, 2, 1], [270, 265, 2, 1], [215, 265, 2, 1], [215, 270, 2, 1], [270, 270, 2, 1]]\n",
      "14 [[215, 270, 2, 2], [215, 265, 2, 2], [265, 265, 2, 2], [265, 270, 2, 2], [215, 270, 2, 2]]\n",
      "15 [[265, 270, 2, 3], [265, 265, 2, 3], [270, 265, 2, 3], [270, 270, 2, 3], [265, 270, 2, 3]]\n",
      "16 [[270, 265, 2, 4], [270, 270, 2, 4], [215, 270, 2, 4], [215, 265, 2, 4], [270, 265, 2, 4]]\n",
      "17 [[215, 265, 2, 5], [215, 270, 2, 5], [265, 270, 2, 5], [265, 265, 2, 5], [215, 265, 2, 5]]\n",
      "18 [[265, 265, 2, 6], [265, 270, 2, 6], [270, 270, 2, 6], [270, 265, 2, 6], [265, 265, 2, 6]]\n",
      "19 [[165, 270, 2, 1], [165, 265, 2, 1], [115, 265, 2, 1], [115, 270, 2, 1], [165, 270, 2, 1]]\n",
      "20 [[115, 270, 2, 2], [115, 265, 2, 2], [65, 265, 2, 2], [65, 270, 2, 2], [115, 270, 2, 2]]\n",
      "21 [[65, 270, 2, 3], [65, 265, 2, 3], [60, 265, 2, 3], [60, 270, 2, 3], [65, 270, 2, 3]]\n",
      "22 [[165, 265, 2, 4], [165, 270, 2, 4], [115, 270, 2, 4], [115, 265, 2, 4], [165, 265, 2, 4]]\n",
      "23 [[115, 265, 2, 5], [115, 270, 2, 5], [65, 270, 2, 5], [65, 265, 2, 5], [115, 265, 2, 5]]\n",
      "24 [[65, 265, 2, 6], [65, 270, 2, 6], [60, 270, 2, 6], [60, 265, 2, 6], [65, 265, 2, 6]]\n"
     ]
    },
    {
     "data": {
      "text/plain": [
       "35"
      ]
     },
     "execution_count": 11,
     "metadata": {},
     "output_type": "execute_result"
    }
   ],
   "execution_count": 11
  },
  {
   "metadata": {
    "ExecuteTime": {
     "end_time": "2024-07-31T13:26:52.115911Z",
     "start_time": "2024-07-31T13:26:51.069026Z"
    }
   },
   "cell_type": "code",
   "source": [
    "\n",
    "image = np.ones((700, 700, 3), np.uint8) * 255\n",
    "for i in range(0, matrix.shape[0]):\n",
    "    for j in range(0, matrix.shape[1]):\n",
    "        cell = matrix[i,j]\n",
    "        cell_top = matrix[i-1,j]\n",
    "        x,y,val,gr = cell\n",
    "        x_,y_,val_,gr_ = cell_top\n",
    "        if cell[2] == 2:\n",
    "            cv2.line(image, (x,y), (x,y), (0,0,0),5)\n",
    "            cv2.line(image, (x_,y_), (x_,y_), (0,0,255),5)\n",
    "\n",
    "while True:\n",
    "    cv2.imshow('Brick', image)\n",
    "    if cv2.waitKey(20) & 0xFF == 27:\n",
    "        break\n",
    "\n",
    "cv2.destroyAllWindows()"
   ],
   "outputs": [],
   "execution_count": 12
  },
  {
   "metadata": {},
   "cell_type": "markdown",
   "source": "### CHECK MATRIX"
  },
  {
   "metadata": {
    "ExecuteTime": {
     "end_time": "2024-07-31T13:26:53.699328Z",
     "start_time": "2024-07-31T13:26:52.124888Z"
    }
   },
   "cell_type": "code",
   "source": [
    "image = np.ones((700, 700, 3), np.uint8) * 255\n",
    "\n",
    "arr_top =  np.array(matrix1 + matrix2)\n",
    "arr_bottom = np.array(matrix3 + matrix4)\n",
    "matrix = np.concatenate((arr_top, arr_bottom), axis=1)\n",
    "matrix = mt.label_group_for_0(matrix)\n",
    "\n",
    "for i in range(0, matrix.shape[0]):\n",
    "    for j in range(0, matrix.shape[1]):\n",
    "        x,y,val,gr = matrix[i,j]\n",
    "        if val is None: # in vung ngoai\n",
    "            cv2.line(image, (x,y), (x,y), (200,200,200),1)\n",
    "        if val == 0 and (5 <= gr <= 25):\n",
    "            cv2.line(image, (x,y), (x,y), (10,230,200),1)\n",
    "            \n",
    "for i in range(0, matrix.shape[0]):\n",
    "    for j in range(0, matrix.shape[1]):\n",
    "        x,y,val,gr = matrix[i,j]\n",
    "        if val == 1:\n",
    "            cv2.line(image, (x,y), (x,y), (0,0,0),1)\n",
    "        if val == 2:\n",
    "            cv2.line(image, (x,y), (x,y), (0,0,0),5)\n",
    "            \n",
    "while True:\n",
    "    cv2.imshow('Brick', image)\n",
    "    if cv2.waitKey(20) & 0xFF == 27:\n",
    "        break\n",
    "\n",
    "cv2.destroyAllWindows()"
   ],
   "outputs": [],
   "execution_count": 13
  },
  {
   "metadata": {},
   "cell_type": "markdown",
   "source": "### THỬ NGHIỆM TỪ ĐÂY"
  },
  {
   "metadata": {
    "ExecuteTime": {
     "end_time": "2024-07-31T13:26:53.731384Z",
     "start_time": "2024-07-31T13:26:53.701939Z"
    }
   },
   "cell_type": "code",
   "source": [
    "cores = []\n",
    "for x,y in unique_pieces:\n",
    "    cores.append(Core(point=[x,y]))\n",
    "\n",
    "[(core.values(), core.getcore(core.point)) for core in cores]"
   ],
   "outputs": [
    {
     "data": {
      "text/plain": [
       "[([[165, 165], False, False, False, False], 0),\n",
       " ([[165, 65], False, False, False, False], 0),\n",
       " ([[115, 65], False, False, False, False], 0),\n",
       " ([[115, 165], False, False, False, False], 0),\n",
       " ([[65, 65], False, False, False, False], 0),\n",
       " ([[65, 165], False, False, False, False], 0),\n",
       " ([[60, 65], False, False, False, False], 0),\n",
       " ([[60, 165], False, False, False, False], 0),\n",
       " ([[165, 60], False, False, False, False], 0),\n",
       " ([[115, 60], False, False, False, False], 0),\n",
       " ([[65, 60], False, False, False, False], 0),\n",
       " ([[60, 60], False, False, False, False], 0),\n",
       " ([[270, 165], False, False, False, False], 0),\n",
       " ([[270, 65], False, False, False, False], 0),\n",
       " ([[215, 65], False, False, False, False], 0),\n",
       " ([[215, 165], False, False, False, False], 0),\n",
       " ([[265, 65], False, False, False, False], 0),\n",
       " ([[265, 165], False, False, False, False], 0),\n",
       " ([[270, 60], False, False, False, False], 0),\n",
       " ([[215, 60], False, False, False, False], 0),\n",
       " ([[265, 60], False, False, False, False], 0),\n",
       " ([[270, 270], False, False, False, False], 0),\n",
       " ([[270, 265], False, False, False, False], 0),\n",
       " ([[215, 265], False, False, False, False], 0),\n",
       " ([[215, 270], False, False, False, False], 0),\n",
       " ([[265, 265], False, False, False, False], 0),\n",
       " ([[265, 270], False, False, False, False], 0),\n",
       " ([[165, 270], False, False, False, False], 0),\n",
       " ([[165, 265], False, False, False, False], 0),\n",
       " ([[115, 265], False, False, False, False], 0),\n",
       " ([[115, 270], False, False, False, False], 0),\n",
       " ([[65, 265], False, False, False, False], 0),\n",
       " ([[65, 270], False, False, False, False], 0),\n",
       " ([[60, 265], False, False, False, False], 0),\n",
       " ([[60, 270], False, False, False, False], 0)]"
      ]
     },
     "execution_count": 14,
     "metadata": {},
     "output_type": "execute_result"
    }
   ],
   "execution_count": 14
  },
  {
   "cell_type": "markdown",
   "metadata": {},
   "source": [
    "### `TRỰC QUAN HÓA KẾT QUẢ TỔNG KHUNG HÌNH`"
   ]
  },
  {
   "cell_type": "code",
   "metadata": {
    "ExecuteTime": {
     "end_time": "2024-07-31T13:26:53.747396Z",
     "start_time": "2024-07-31T13:26:53.734377Z"
    }
   },
   "source": [
    "# import numpy as np\n",
    "# import cv2\n",
    "# \n",
    "# image = np.ones((700, 700, 3), np.uint8) * 255\n",
    "# shape_res = np.array(matrix).shape\n",
    "# \n",
    "# for i in range(0, shape_res[0]):\n",
    "#     for j in range(0, shape_res[1]):\n",
    "#         cell = matrix[i][j]\n",
    "#         x,y,val,gr = cell\n",
    "#         if cell[2] == 1: # in cạnh\n",
    "#             cv2.line(image, (x,y), (x,y), (0,0,0),1)\n",
    "#         elif cell[2] == 2:\n",
    "#             cv2.line(image, (x,y), (x,y), (0,0,0),7)\n",
    "# \n",
    "# \n",
    "# [cv2.line(image, (x,y), (x,y), (255,0,0), 5) for [x,y] in core90]\n",
    "# [cv2.line(image, (x,y), (x,y), (0,255,0), 5) for [x,y] in core180]\n",
    "# [cv2.line(image, (x,y), (x,y), (0,0,245), 5) for [x,y] in core360]\n",
    "# \n",
    "# while True:\n",
    "#     cv2.imshow('Brick', image)\n",
    "#     if cv2.waitKey(20) & 0xFF == 27:\n",
    "#         break\n",
    "# \n",
    "# cv2.destroyAllWindows()"
   ],
   "outputs": [],
   "execution_count": 15
  },
  {
   "cell_type": "code",
   "metadata": {
    "ExecuteTime": {
     "end_time": "2024-07-31T13:26:53.763381Z",
     "start_time": "2024-07-31T13:26:53.749865Z"
    }
   },
   "source": [
    "# import numpy as np\n",
    "# import cv2\n",
    "\n",
    "# image = np.ones((700, 700, 3), np.uint8) * 255\n",
    "# shape_res = np.array(matrix2).shape\n",
    "\n",
    "# shape = np.shape(result1)\n",
    "\n",
    "# for i in range(0, shape[0]):\n",
    "#     for j in range(0, shape[1]):\n",
    "#         [x, y, v, g] = result1[i][j]\n",
    "#         if g != None:\n",
    "#             cv2.line(image, (x,y), (x,y), (0,0,0),1)\n",
    "            \n",
    "\n",
    "# # [cv2.line(image, (x,y), (x,y), (255,0,0), 5) for [x,y] in core90]\n",
    "# # [cv2.line(image, (x,y), (x,y), (0,255,0), 5) for [x,y] in core180]\n",
    "# # [cv2.line(image, (x,y), (x,y), (0,0,245), 5) for [x,y] in core360]\n",
    "\n",
    "# while True:\n",
    "#     cv2.imshow('Brick', image)\n",
    "#     if cv2.waitKey(20) & 0xFF == 27:\n",
    "#         break\n",
    "\n",
    "# cv2.destroyAllWindows()"
   ],
   "outputs": [],
   "execution_count": 16
  },
  {
   "metadata": {
    "ExecuteTime": {
     "end_time": "2024-07-31T13:26:53.778341Z",
     "start_time": "2024-07-31T13:26:53.766372Z"
    }
   },
   "cell_type": "code",
   "source": "",
   "outputs": [],
   "execution_count": 16
  },
  {
   "metadata": {
    "ExecuteTime": {
     "end_time": "2024-07-31T13:26:53.794302Z",
     "start_time": "2024-07-31T13:26:53.781333Z"
    }
   },
   "cell_type": "code",
   "source": [
    "# def minmax_XY(cells):\n",
    "#     min_max_arrX = [min(np.array(cells)[:,0]), max(np.array(cells)[:, 0])]\n",
    "#     min_max_arrY = [min(np.array(cells)[:,1]), max(np.array(cells)[:, 1])]\n",
    "#     return min_max_arrX, min_max_arrY\n",
    "# \n",
    "# def trong_tam(arr):\n",
    "#     return [int(np.mean(np.array(arr)[:,0])), int(np.mean(np.array(arr)[:,1]))]\n",
    "# \n",
    "# def khoang_cach(X, Y):\n",
    "#     return math.sqrt((Y[0] - X[0]) ** 2 + (Y[1] - X[1]) ** 2)\n",
    "# \n",
    "# ind = 1\n",
    "# \n",
    "# import cv2\n",
    "# import math\n",
    "# \n",
    "# image = np.ones((700, 700, 3), np.uint8) * 255\n",
    "# \n",
    "# # tính khoảng cách ngắn nhất của 2 điểm tọa độ\n",
    "# \n",
    "# for index in range(0, len(result)):\n",
    "#     if ind >= 1:\n",
    "#         \n",
    "#         item = [[x,y,val,gr] for [x,y,val,gr] in result[index]]\n",
    "#         cv2.line(image, (item[0][0], item[0][1]), (item[0][0], item[0][1]), (0,0,100), 5)\n",
    "#         print('yet sort:', result[index])\n",
    "#         for i in range(0, len(result[index])-1):\n",
    "#             check_kc = khoang_cach([result[index][i][0], result[index][i][1]], [result[index][i+1][0], result[index][i+1][1]])\n",
    "#             # print(check_kc, [result[index][i][0], result[index][i][1]], [result[index][i+1][0], result[index][i+1][1]])\n",
    "#             check_index = i\n",
    "#             item_checking = result[index][i]\n",
    "#             \n",
    "#             for j in range(i + 1, len(result[index])):\n",
    "#                 kc = khoang_cach([result[index][i][0], result[index][i][1]], [result[index][j][0], result[index][j][1]])\n",
    "#                 # print(result[index][i], result[index][j], kc, end='')\n",
    "#                 # print([item[j][0], item[j][1]], kc)\n",
    "#                 if kc >= check_kc:\n",
    "#                     check_kc = kc\n",
    "#                     # print('\\t\\tloc_min', result[index][j], end='')\n",
    "#                     check_index = j\n",
    "#                 # print()\n",
    "#                     \n",
    "#             result[index][i], result[index][check_index] = result[index][check_index], result[index][i]\n",
    "#             # print()\n",
    "#         print('sorted:',result[index])\n",
    "#         \n",
    "#         for ii in range(0, len(result[index])-1):\n",
    "#             loc = (result[index][ii][0], result[index][ii][1])\n",
    "#             loc_next = (result[index][ii + 1][0], result[index][ii + 1][1])\n",
    "#             cv2.line(image, loc, loc_next, (0,255,0), 2)\n",
    "#         # cv2.line(image, loc_next, (result[index][0][0], result[index][0][1]), (0,255,0), 2)\n",
    "#     ind += 1\n",
    "#         \n",
    "# # [cv2.line(image, (x,y), (x,y), (0,0,0),1) for [x,y] in cell_edges]\n",
    "# # [cv2.line(image, (x,y), (x,y), (0,0,0),1) for [x,y] in canh1]\n",
    "# # [cv2.line(image, (x,y), (x,y), (0,0,0),1) for [x,y] in canh2]\n",
    "# # [cv2.line(image, (x,y), (x,y), (0,0,0),1) for [x,y] in canh3]\n",
    "# # [cv2.line(image, (x,y), (x,y), (0,0,0),1) for [x,y] in canh4]\n",
    "# \n",
    "# while True:\n",
    "#     cv2.imshow('DatGach', image)\n",
    "#     if cv2.waitKey(20) & 0xFF == 27:\n",
    "#         break\n",
    "# \n",
    "# cv2.destroyAllWindows()"
   ],
   "outputs": [],
   "execution_count": 17
  },
  {
   "cell_type": "code",
   "metadata": {
    "ExecuteTime": {
     "end_time": "2024-07-31T13:26:54.390223Z",
     "start_time": "2024-07-31T13:26:53.797816Z"
    }
   },
   "source": [
    "from itertools import groupby\n",
    "import random as rd\n",
    "image = np.ones((700, 700, 3), np.uint8) * 255\n",
    "# Lọc lây toàn bộ thịt\n",
    "array_thit = [[x,y,v,g] for x,y,v,g in np.array(matrix2).reshape(-1,4).tolist() if g != None]\n",
    "# Sắp xếp theo group\n",
    "r_1 = sorted(array_thit, key= lambda x: x[3])\n",
    "# gom thịt có group giống nhau thành 1 danh sách con\n",
    "groups_thit = [list(group) for key, group in groupby(r_1, key=lambda x: x[3])]\n",
    "# Sắp xếp mảng thịt có số lượng từ lớn đến bé\n",
    "groups_thit = sorted(groups_thit, key=len, reverse=True)\n",
    "print(len(groups_thit))\n",
    "check = len(groups_thit[0])\n",
    "color = (255,0,0)\n",
    "for arr in groups_thit:\n",
    "    \n",
    "    if check - len(arr) != 0:\n",
    "        color = (rd.randint(0,250), rd.randint(0,250), rd.randint(200,255))\n",
    "        check = len(arr)\n",
    "        \n",
    "    for [x,y,val,gr] in arr:\n",
    "        if val == 0:\n",
    "            cv2.line(image, (x,y), (x,y), color,1)\n",
    "\n",
    "# [cv2.line(image, (x,y), (x,y), (0,0,0),1) for [x,y] in cell_edges]\n",
    "# [cv2.line(image, (x,y), (x,y), (0,0,0),1) for [x,y] in canh1]\n",
    "# [cv2.line(image, (x,y), (x,y), (0,0,0),1) for [x,y] in canh2]\n",
    "# [cv2.line(image, (x,y), (x,y), (0,0,0),1) for [x,y] in canh3]\n",
    "# [cv2.line(image, (x,y), (x,y), (0,0,0),1) for [x,y] in canh4]\n",
    "\n",
    "while True:\n",
    "    cv2.imshow('DatGach', image)\n",
    "    if cv2.waitKey(20) & 0xFF == 27:\n",
    "        break\n",
    "\n",
    "cv2.destroyAllWindows()"
   ],
   "outputs": [
    {
     "name": "stdout",
     "output_type": "stream",
     "text": [
      "6\n"
     ]
    }
   ],
   "execution_count": 18
  }
 ],
 "metadata": {
  "kernelspec": {
   "display_name": ".venv",
   "language": "python",
   "name": "python3"
  },
  "language_info": {
   "codemirror_mode": {
    "name": "ipython",
    "version": 3
   },
   "file_extension": ".py",
   "mimetype": "text/x-python",
   "name": "python",
   "nbconvert_exporter": "python",
   "pygments_lexer": "ipython3",
   "version": "3.8.10"
  }
 },
 "nbformat": 4,
 "nbformat_minor": 2
}
