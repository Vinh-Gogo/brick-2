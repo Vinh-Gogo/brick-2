{
 "cells": [
  {
   "cell_type": "markdown",
   "metadata": {},
   "source": [
    "### `Input`"
   ]
  },
  {
   "cell_type": "code",
   "execution_count": 8,
   "metadata": {},
   "outputs": [],
   "source": [
    "# positions = [[50, 40], [580, 40], [580, 60], [430, 60], \n",
    "#                       [430, 100], [520, 100], [520, 150],[600, 150], [600, 200], [520, 200]\n",
    "#                       , [520, 440], [650, 440], [650, 630],\n",
    "#                       [210, 630], [210, 530], [70, 530], [70, 420],\n",
    "#                         [150, 420], [150, 140], [50, 140], [50, 40]]\n",
    "# [ngang, dọc]\n",
    "grid_size = (60, 100)\n",
    "positions = [[50, 40], [580, 40], [580, 60], [430, 60], \n",
    "                      [430, 100], [520, 100], [520, 150],[600, 150], [600, 220], [620, 220],\n",
    "                      [620, 180], [660, 180], [660, 280], \n",
    "                      [550,280], [550,220], [520, 220], \n",
    "                      [520, 440], [650, 440], [650, 630],\n",
    "                      [210, 630], [210, 530], [70, 530], [70, 420], \n",
    "                      [150, 420], [150, 140], [50, 140], [50, 40]]\n",
    "# positions = np.array([[60, 60], [270, 60], [270, 270], [60, 270], [60, 60]])\n",
    "# grid_size = [80, 80]\n",
    "# positions = [[50, 40], [150, 40], [150, 120], [350, 120], \n",
    "#              [350, 60], [400, 60], [400, 200], [500, 200], \n",
    "#              [500, 500], [50, 500], [50, 40]]\n",
    "\n"
   ]
  },
  {
   "cell_type": "markdown",
   "metadata": {},
   "source": [
    "### `TẠO ĐƯỜNG BAO`"
   ]
  },
  {
   "cell_type": "code",
   "execution_count": 9,
   "metadata": {},
   "outputs": [],
   "source": [
    "from Models import BorderPoint\n",
    "\n",
    "border_point = BorderPoint(positions)\n",
    "border_line = border_point.create_border_lines()"
   ]
  },
  {
   "cell_type": "markdown",
   "metadata": {},
   "source": [
    "## `TẠO MA TRẬN (1->Cạnh, 0->thịt, None->Vùng ngoài)`"
   ]
  },
  {
   "cell_type": "code",
   "execution_count": 10,
   "metadata": {},
   "outputs": [],
   "source": [
    "from Models import Matrix\n",
    "\n",
    "mt = Matrix()\n",
    "# khởi tạo ma trận gồm thịt cạnh và vùng ngoài\n",
    "mt.create_matrix(grid_size, positions)\n",
    "\n",
    "# lấy tất cả các đỉnh trong ma trận\n",
    "corners = mt.take_all_corners()\n",
    "# thêm các đỉnh vào ma trận\n",
    "mt.add_corners_to_matrix(corners)\n",
    "# kết quả\n",
    "matrix = mt.values()"
   ]
  },
  {
   "cell_type": "markdown",
   "metadata": {},
   "source": [
    "#### `Check matrix`"
   ]
  },
  {
   "cell_type": "code",
   "execution_count": 11,
   "metadata": {},
   "outputs": [],
   "source": [
    "# import numpy as np\n",
    "# import cv2\n",
    "\n",
    "# shape_res = np.array(matrix).shape\n",
    "# print(shape_res)\n",
    "\n",
    "# image = np.ones((700, 700, 3), np.uint8) * 255\n",
    "\n",
    "# for i in range(0, shape_res[0]):\n",
    "#     for j in range(0, shape_res[1]):\n",
    "#         cell = matrix[i][j]\n",
    "#         x,y,val,gr = cell\n",
    "#         if cell[2] == 0:\n",
    "#             cv2.line(image, (x,y), (x,y), (150,200,200),1)\n",
    "#         elif cell[2] == 1:\n",
    "#             cv2.line(image, (x,y), (x,y), (0,0,0),1)\n",
    "        \n",
    "# for i in range(0, shape_res[0]):\n",
    "#     for j in range(0, shape_res[1]):\n",
    "#         x,y,val,gr = matrix[i][j]\n",
    "#         if val == 2:\n",
    "#             cv2.line(image, (x,y), (x,y), (50,50,250),4)\n",
    "            \n",
    "# trung_diem = (int(np.mean(np.array(border_line)[:,0])), int(np.mean(np.array(border_line)[:,1])))\n",
    "# x,y = trung_diem\n",
    "# cv2.line(image, (x,y), (x,y), (0,0,0),5)\n",
    "\n",
    "# while True:\n",
    "#     cv2.imshow('DatGach', image)\n",
    "#     if cv2.waitKey(20) & 0xFF == 27:\n",
    "#         break\n",
    "\n",
    "# cv2.destroyAllWindows()"
   ]
  },
  {
   "cell_type": "markdown",
   "metadata": {},
   "source": [
    "##### `Các mảnh khu 1 - TRÁI TRÊN`"
   ]
  },
  {
   "cell_type": "code",
   "execution_count": 12,
   "metadata": {},
   "outputs": [],
   "source": [
    "from Models import Core\n",
    "\n",
    "core = Core()\n",
    "core.create_core(matrix)\n",
    "core90, core180, core360 = core.values()"
   ]
  },
  {
   "cell_type": "markdown",
   "metadata": {},
   "source": [
    "# PHÂN LOẠI VÀ ĐẾM SỐ CÁC HÌNH GIỐNG NHAU"
   ]
  },
  {
   "cell_type": "markdown",
   "metadata": {},
   "source": [
    "### `TRỰC QUAN HÓA KẾT QUẢ TỔNG KHUNG HÌNH`"
   ]
  },
  {
   "cell_type": "code",
   "execution_count": 13,
   "metadata": {},
   "outputs": [],
   "source": [
    "import numpy as np\n",
    "import cv2\n",
    "\n",
    "image = np.ones((700, 700, 3), np.uint8) * 255\n",
    "shape_res = np.array(matrix).shape\n",
    "\n",
    "for i in range(0, shape_res[0]):\n",
    "    for j in range(0, shape_res[1]):\n",
    "        cell = matrix[i][j]\n",
    "        x,y,val,gr = cell\n",
    "        if cell[2] == 1: # in cạnh\n",
    "            cv2.line(image, (x,y), (x,y), (0,0,0),1)\n",
    "\n",
    "[cv2.line(image, (x,y), (x,y), (0,0,0), 5) for [x,y] in core90]\n",
    "[cv2.line(image, (x,y), (x,y), (0,123,123), 5) for [x,y] in core180]\n",
    "[cv2.line(image, (x,y), (x,y), (0,0,245), 5) for [x,y] in core360]\n",
    "\n",
    "while True:\n",
    "    cv2.imshow('Brick', image)\n",
    "    if cv2.waitKey(20) & 0xFF == 27:\n",
    "        break\n",
    "\n",
    "cv2.destroyAllWindows()"
   ]
  }
 ],
 "metadata": {
  "kernelspec": {
   "display_name": ".venv",
   "language": "python",
   "name": "python3"
  },
  "language_info": {
   "codemirror_mode": {
    "name": "ipython",
    "version": 3
   },
   "file_extension": ".py",
   "mimetype": "text/x-python",
   "name": "python",
   "nbconvert_exporter": "python",
   "pygments_lexer": "ipython3",
   "version": "3.8.10"
  }
 },
 "nbformat": 4,
 "nbformat_minor": 2
}
