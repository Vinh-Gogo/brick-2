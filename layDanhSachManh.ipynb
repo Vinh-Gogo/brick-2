{
 "cells": [
  {
   "metadata": {},
   "cell_type": "markdown",
   "source": ""
  },
  {
   "metadata": {
    "ExecuteTime": {
     "end_time": "2024-08-02T09:28:11.952268Z",
     "start_time": "2024-08-02T09:28:11.625175Z"
    }
   },
   "cell_type": "code",
   "source": [
    "import cv2\n",
    "import numpy as np\n",
    "from model.Models import BorderPoint\n",
    "from model.Models import Matrix\n",
    "from model.Models import State\n",
    "from model.Models import ListCore"
   ],
   "outputs": [],
   "execution_count": 1
  },
  {
   "metadata": {
    "ExecuteTime": {
     "end_time": "2024-08-02T09:28:11.967680Z",
     "start_time": "2024-08-02T09:28:11.954710Z"
    }
   },
   "cell_type": "code",
   "source": [
    "# positions = [[50, 40], [580, 40], [580, 60], [430, 60], \n",
    "#                       [430, 100], [520, 100], [520, 150],[600, 150], [600, 200], [520, 200]\n",
    "#                       , [520, 440], [650, 440], [650, 630],\n",
    "#                       [210, 630], [210, 530], [70, 530], [70, 420],\n",
    "#                         [150, 420], [150, 140], [50, 140], [50, 40]]\n",
    "# # [ngang, dọc]\n",
    "# # grid_size = (60, 100)\n",
    "positions = [[50, 40], [580, 40], [580, 60], [430, 60], \n",
    "                      [430, 100], [520, 100], [520, 150],[600, 150], [600, 220], [620, 220],\n",
    "                      [620, 180], [660, 180], [660, 280], \n",
    "                      [550,280], [550,220], [520, 220], \n",
    "                      [520, 440], [650, 440], [650, 630],\n",
    "                      [210, 630], [210, 530], [70, 530], [70, 420], \n",
    "                      [150, 420], [150, 140], [50, 140], [50, 40]]\n",
    "positions = [[60, 60], [270, 60], [270, 270], [60, 270], [60, 60]]\n",
    "grid_size = [120, 120]\n",
    "positions = [[50, 40], [150, 40], [150, 120], [350, 120], \n",
    "             [350, 60], [400, 60], [400, 200], [500, 200], \n",
    "             [500, 500], [50, 500], [50, 40]]"
   ],
   "outputs": [],
   "execution_count": 2
  },
  {
   "metadata": {},
   "cell_type": "markdown",
   "source": "#### DI CHUYỂN MA TRẬN"
  },
  {
   "metadata": {
    "ExecuteTime": {
     "end_time": "2024-08-02T09:28:11.997819Z",
     "start_time": "2024-08-02T09:28:11.970675Z"
    }
   },
   "cell_type": "code",
   "source": [
    "minx = min(np.array(positions)[:, 0])\n",
    "miny = min(np.array(positions)[:, 1])\n",
    "if minx < miny:\n",
    "    positions = positions - minx + 4\n",
    "else:\n",
    "    positions = positions - miny + 4\n",
    "\n",
    "\n",
    "minx = min(np.array(positions)[:, 0])\n",
    "miny = min(np.array(positions)[:, 1])\n",
    "\n",
    "if minx > miny:\n",
    "    positions = [[x - minx + 4,y] for x, y in positions]\n",
    "else:\n",
    "    positions = [[x, y - miny + 4] for x, y in positions]\n",
    "\n",
    "positions\n"
   ],
   "outputs": [
    {
     "data": {
      "text/plain": [
       "[[4, 4],\n",
       " [104, 4],\n",
       " [104, 84],\n",
       " [304, 84],\n",
       " [304, 24],\n",
       " [354, 24],\n",
       " [354, 164],\n",
       " [454, 164],\n",
       " [454, 464],\n",
       " [4, 464],\n",
       " [4, 4]]"
      ]
     },
     "execution_count": 3,
     "metadata": {},
     "output_type": "execute_result"
    }
   ],
   "execution_count": 3
  },
  {
   "metadata": {},
   "cell_type": "markdown",
   "source": "#### TẠO MA TRẬN"
  },
  {
   "metadata": {
    "ExecuteTime": {
     "end_time": "2024-08-02T09:28:40.321927Z",
     "start_time": "2024-08-02T09:28:11.999818Z"
    }
   },
   "cell_type": "code",
   "source": [
    "border_point = BorderPoint()\n",
    "# Tạo đường biên\n",
    "border_line = border_point.create_line_border_all(positions)\n",
    "\n",
    "# Chia thành 4 đường biên tính từ tọa độ đầu vào\n",
    "trung_diem = [int(np.mean(np.array(border_line)[:,0])), int(np.mean(np.array(border_line)[:,1]))]\n",
    "border1, border2, border3, border4 = border_point.create_line_border(trung_diem)\n",
    "\n",
    "# Tạo ma trận 0 & 1 & -1\n",
    "min_p = (min(np.array(positions)[:,0]), min(np.array(positions)[:,1]))\n",
    "max_p = (max(np.array(positions)[:,0]), max(np.array(positions)[:,1]))\n",
    "mt = Matrix(max_p[0] , max_p[1])\n",
    "matrix = mt.create_matrix(trung_diem, grid_size, border1, border2, border3, border4)\n",
    "\n",
    "# Lấy các góc\n",
    "corners = mt.take_all_corners()\n",
    "# Cập nhật các góc có giá trị 2\n",
    "matrix_have_corners = mt.add_corners_to_matrix(corners)\n",
    "# Đánh dấu cho phần thịt\n",
    "matrix_lable = mt.label_group_for_0()\n",
    "\n",
    "#  Gom nhóm các góc\n",
    "group = mt.getGroup(matrix_lable)\n",
    "\n",
    "state = State(group)\n",
    "# Sắp xếp các đỉnh theo chiều kim đồng hồ\n",
    "states_sort = state.sort_state(state.state)\n"
   ],
   "outputs": [
    {
     "name": "stdout",
     "output_type": "stream",
     "text": [
      "1\n",
      "2\n",
      "3\n",
      "4 DONE !\n",
      "(458, 468, 4)\n"
     ]
    }
   ],
   "execution_count": 4
  },
  {
   "metadata": {},
   "cell_type": "markdown",
   "source": "#### Lấy vị trí cần check core"
  },
  {
   "metadata": {
    "ExecuteTime": {
     "end_time": "2024-08-02T09:35:12.301617Z",
     "start_time": "2024-08-02T09:35:12.228376Z"
    }
   },
   "cell_type": "code",
   "source": [
    "list_core = ListCore()\n",
    "\n",
    "# Điểm tọa độ từ \n",
    "ress_min = list_core.find_state_and_group(states_sort, 6)\n",
    "# Điểm tọa độ đến\n",
    "ress_max = list_core.find_state_and_group(states_sort, 13)\n",
    "min_max_group = [[min(np.array(ress_min)[:,0]-1), min(np.array(ress_min)[:,1]-1)], [max(np.array(ress_max)[:,0]+1), max(np.array(ress_max)[:,1]+1)]]\n",
    "# min_max_group = [[min(np.array(ress_max)[:,0]-1), min(np.array(ress_max)[:,1]-1)], [max(np.array(ress_max)[:,0]+1), max(np.array(ress_max)[:,1]+1)]]\n",
    "\n",
    "# tạo các core từ tọa độ điểm bắt đầu cho đến tọa độ kết thúc\n",
    "cores = list_core.create_cores(matrix_lable, min_max_group[0], min_max_group[1])\n"
   ],
   "outputs": [
    {
     "name": "stdout",
     "output_type": "stream",
     "text": [
      "[[3, 118], [455, 360]]\n"
     ]
    }
   ],
   "execution_count": 26
  },
  {
   "metadata": {},
   "cell_type": "markdown",
   "source": "#### TRỰC QUAN HÓA"
  },
  {
   "metadata": {
    "ExecuteTime": {
     "end_time": "2024-08-02T09:35:49.536100Z",
     "start_time": "2024-08-02T09:35:14.437699Z"
    }
   },
   "cell_type": "code",
   "source": [
    "image = np.ones((700, 700, 3), np.uint8) * 255\n",
    "\n",
    "for arr in matrix:\n",
    "    for x,y,v,g in arr:\n",
    "        x, y, v, g = int(x), int(y), int(v), int(g)\n",
    "        if v == 2:\n",
    "            cv2.line(image, (x,y), (x,y), (0,0,0),3)\n",
    "        if v == 1:\n",
    "            cv2.line(image, (x,y), (x,y), (100,100,100),1)\n",
    "            \n",
    "for arr in matrix:\n",
    "    for x,y,v,g in arr:\n",
    "        x, y, v, g = int(x), int(y), int(v), int(g)\n",
    "        if v == 2:\n",
    "            core = [core for core in cores if core.point == [x, y]]\n",
    "            for c in core:\n",
    "                if c:\n",
    "                    length = 5\n",
    "                    think = 2\n",
    "                    if c.TOP:\n",
    "                        cv2.line(image, (x,y), (x,y - length), (0,0,255),think)\n",
    "                    if c.RIGHT:\n",
    "                        cv2.line(image, (x,y), (x + length,y), (0,0,255),think)\n",
    "                    if c.BOTTOM:\n",
    "                        cv2.line(image, (x,y), (x,y + length), (0,0,255),think)\n",
    "                    if c.LEFT:\n",
    "                        cv2.line(image, (x,y), (x - length,y), (0,0,255),think)\n",
    "\n",
    "while True:\n",
    "    cv2.imshow('Brick', image)\n",
    "    if cv2.waitKey(20) & 0xFF == 27:\n",
    "        break\n",
    "\n",
    "cv2.destroyAllWindows()"
   ],
   "outputs": [],
   "execution_count": 27
  },
  {
   "metadata": {
    "ExecuteTime": {
     "end_time": "2024-08-02T09:28:49.553293Z",
     "start_time": "2024-08-02T09:28:49.539730Z"
    }
   },
   "cell_type": "code",
   "source": "",
   "outputs": [],
   "execution_count": 7
  },
  {
   "metadata": {
    "ExecuteTime": {
     "end_time": "2024-08-02T09:28:49.568441Z",
     "start_time": "2024-08-02T09:28:49.555256Z"
    }
   },
   "cell_type": "code",
   "source": "max(border3)",
   "outputs": [
    {
     "data": {
      "text/plain": [
       "[454, 464]"
      ]
     },
     "execution_count": 8,
     "metadata": {},
     "output_type": "execute_result"
    }
   ],
   "execution_count": 8
  }
 ],
 "metadata": {
  "kernelspec": {
   "display_name": ".venv",
   "language": "python",
   "name": "python3"
  },
  "language_info": {
   "codemirror_mode": {
    "name": "ipython",
    "version": 3
   },
   "file_extension": ".py",
   "mimetype": "text/x-python",
   "name": "python",
   "nbconvert_exporter": "python",
   "pygments_lexer": "ipython3",
   "version": "3.8.10"
  }
 },
 "nbformat": 4,
 "nbformat_minor": 2
}
