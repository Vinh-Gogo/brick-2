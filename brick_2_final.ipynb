{
 "cells": [
  {
   "cell_type": "markdown",
   "metadata": {},
   "source": [
    "### `Package using`"
   ]
  },
  {
   "cell_type": "code",
   "execution_count": 213,
   "metadata": {},
   "outputs": [],
   "source": [
    "import cv2\n",
    "import numpy as np\n",
    "from itertools import groupby\n",
    "import random as rd"
   ]
  },
  {
   "cell_type": "markdown",
   "metadata": {},
   "source": [
    "### `Input`"
   ]
  },
  {
   "cell_type": "code",
   "execution_count": 214,
   "metadata": {},
   "outputs": [],
   "source": [
    "\n",
    "def create_edges(positions):\n",
    "    '''  Tạo cạnh từ danh sách đỉnh '''\n",
    "    result = []\n",
    "    for i in range(0, len(positions) - 1):\n",
    "        item = positions[i]\n",
    "        next_item = positions[i+1]\n",
    "        if item[0] == next_item[0]:\n",
    "            if item[1] < next_item[1]:\n",
    "                # dọc thuận - done\n",
    "                for i in range(item[1], next_item[1] + 1):\n",
    "                    result.append([item[0], i])\n",
    "            if item[1] > next_item[1]:\n",
    "                # dọc ngược - done\n",
    "                for i in range(next_item[1], item[1] + 1):\n",
    "                    result.append([item[0], i])                \n",
    "        \n",
    "        elif item[1] == next_item[1]:    \n",
    "            if item[0] < next_item[0]:\n",
    "                # ngang thuan - done\n",
    "                for i in range(item[0], next_item[0] + 1):\n",
    "                    result.append([i, item[1]])         \n",
    "            if item[0] > next_item[0]:\n",
    "                # ngang nguoc - done\n",
    "                for i in range(next_item[0], item[0] + 1):\n",
    "                        result.append([i, item[1]])\n",
    "    \n",
    "    return list(set(tuple(x) for x in result))\n",
    "\n",
    "\n",
    "# positions = [[50, 40], [580, 40], [580, 60], [430, 60], \n",
    "#                       [430, 100], [520, 100], [520, 150],[600, 150], [600, 200], [520, 200]\n",
    "#                       , [520, 440], [650, 440], [650, 630],\n",
    "#                       [210, 630], [210, 530], [70, 530], [70, 420],\n",
    "#                         [150, 420], [150, 140], [50, 140], [50, 40]]\n",
    "# [ngang, dọc]\n",
    "grid_size = [80, 80]\n",
    "positions = [[50, 40], [580, 40], [580, 60], [430, 60], \n",
    "                      [430, 100], [520, 100], [520, 150],[600, 150], [600, 220], [620, 220],\n",
    "                      [620, 180], [660, 180], [660, 280], \n",
    "                      [550,280], [550,220], [520, 220], \n",
    "                      [520, 440], [650, 440], [650, 630],\n",
    "                      [210, 630], [210, 530], [70, 530], [70, 420], \n",
    "                      [150, 420], [150, 140], [50, 140], [50, 40]]\n",
    "# positions = np.array([[60, 60], [270, 60], [270, 270], [60, 270], [60, 60]])\n",
    "positions = [[50, 40], [150, 40], [150, 120], [350, 120], \n",
    "             [350, 60], [400, 60], [400, 200], [500, 200], \n",
    "             [500, 500], [50, 500], [50, 40]]\n",
    "\n"
   ]
  },
  {
   "cell_type": "markdown",
   "metadata": {},
   "source": [
    "### `TẠO ĐƯỜNG BAO`"
   ]
  },
  {
   "cell_type": "code",
   "execution_count": 215,
   "metadata": {},
   "outputs": [],
   "source": [
    "cell_edges = create_edges(positions)"
   ]
  },
  {
   "cell_type": "markdown",
   "metadata": {},
   "source": [
    "## `TẠO ĐƯỜNG BAO CHO 4 PHẦN TÍNH TỪ ĐIỂM NẤT KỲ (VD: TRỌNG TÂM)`"
   ]
  },
  {
   "cell_type": "code",
   "execution_count": 216,
   "metadata": {},
   "outputs": [],
   "source": [
    "trung_diem = [int(np.mean(np.array(cell_edges)[:,0])), int(np.mean(np.array(cell_edges)[:,1]))]\n",
    "db1, db2, db3, db4 = [], [], [], []\n",
    "\n",
    "for [x,y] in cell_edges:\n",
    "        if x >= trung_diem[0] and y <= trung_diem[1]:\n",
    "            db1.append([x, y]) \n",
    "        if x <= trung_diem[0] and y <= trung_diem[1]:\n",
    "            db2.append([x, y])\n",
    "        if x >= trung_diem[0] and y >= trung_diem[1]:\n",
    "            db3.append([x, y])\n",
    "        if x <= trung_diem[0] and y >= trung_diem[1]:\n",
    "            db4.append([x, y])\n",
    "\n",
    "mmx = [min(np.array(positions)[:,0]),max(np.array(positions)[:,0])]\n",
    "mmy = [min(np.array(positions)[:,1]),max(np.array(positions)[:,1])]\n",
    "\n",
    "for x in range(trung_diem[0], mmx[1]+1, 1):\n",
    "    for y in range(trung_diem[1], mmy[0]-1, -1):\n",
    "        if (x == trung_diem[0] or y == trung_diem[1]):  # là vị trí đường lưới\n",
    "            arrX_item = [i for [i, j] in cell_edges if j == y]\n",
    "            arrY_item = [j for [i, j] in cell_edges if i == x]\n",
    "            if arrY_item and arrX_item:\n",
    "                _x_ = [min(arrX_item), max(arrX_item)]\n",
    "                _y_ = [min(arrY_item), max(arrY_item)]\n",
    "                if ((x >= _x_[0]) and (x <= _x_[1])) and (y >= _y_[0] and y <= _y_[1]):  # bên trong\n",
    "                    db1.append([x, y])"
   ]
  },
  {
   "cell_type": "markdown",
   "metadata": {},
   "source": [
    "## `TẠO CẠNH CHO 4 PHÍA`"
   ]
  },
  {
   "cell_type": "code",
   "execution_count": 217,
   "metadata": {},
   "outputs": [],
   "source": [
    "canh1 = []\n",
    "\n",
    "for x in range(trung_diem[0], mmx[1]+1, 1):\n",
    "    for y in range(trung_diem[1], mmy[0]-1, -1):\n",
    "        if (x- trung_diem[0]) %  grid_size[0] == 0 or (y - trung_diem[1]) % grid_size[1] == 0:\n",
    "            arrX_item = [i for [i, j] in db1 if y == j]\n",
    "            arrY_item = [j for [i, j] in db1 if x == i]\n",
    "            if arrY_item and arrX_item:\n",
    "                mmx_ = [min(arrX_item), max(arrX_item)]\n",
    "                mmy_ = [min(arrY_item), max(arrY_item)]\n",
    "                if ((x >= mmx_[0]) and (x <= mmx_[1])) and (y >= mmy_[0] and y <= mmy_[1]):  # bên trong\n",
    "                    canh1.append([x, y])"
   ]
  },
  {
   "cell_type": "markdown",
   "metadata": {},
   "source": [
    "### `CHUẨN BỊ DỮ LIỆU CHO TẠO MA TRẬN`"
   ]
  },
  {
   "cell_type": "code",
   "execution_count": null,
   "metadata": {},
   "outputs": [],
   "source": []
  },
  {
   "cell_type": "markdown",
   "metadata": {},
   "source": [
    "## `TẠO MA TRẬN (1->Cạnh, 0->thịt, None->Vùng ngoài)`"
   ]
  },
  {
   "cell_type": "code",
   "execution_count": 218,
   "metadata": {},
   "outputs": [],
   "source": [
    "cells1 = []\n",
    "for x in range(trung_diem[0], mmx[1]+1, 1):\n",
    "    arr = []\n",
    "    for y in range(trung_diem[1], mmy[0]-1, -1):\n",
    "        cell = [x,y,None, None]\n",
    "        arrX_item = [i for [i, j] in db1 if y == j]\n",
    "        arrY_item = [j for [i, j] in db1 if x == i]\n",
    "        if arrY_item and arrX_item:\n",
    "            mmx_ = [min(arrX_item), max(arrX_item)]\n",
    "            mmy_ = [min(arrY_item), max(arrY_item)]\n",
    "            if ((x >= mmx_[0]) and (x <= mmx_[1])) and (y >= mmy_[0] and y <= mmy_[1]):  # bên trong\n",
    "                cell = [x, y, 0, None]\n",
    "                if ((x- trung_diem[0]) %  grid_size[0] == 0 or (y - trung_diem[1]) % grid_size[1] == 0) or [x, y] in db1: \n",
    "                    cell = [x, y, 1, None]\n",
    "        arr.append(cell)\n",
    "    cells1.append(arr)"
   ]
  },
  {
   "cell_type": "markdown",
   "metadata": {},
   "source": [
    "### `ĐÁNH DẤU GIÁ TRỊ \"GROUP\" CHO THỊT`"
   ]
  },
  {
   "cell_type": "code",
   "execution_count": 219,
   "metadata": {},
   "outputs": [],
   "source": [
    "image = np.ones((700, 700, 3), np.uint8) * 255\n",
    "\n",
    "\n",
    "result1 = cells1\n",
    "# result2 = cells2\n",
    "# result3 = cells3\n",
    "# result4 = cells4\n",
    "index = 1\n",
    "cells_shape1 = np.array(result1).shape\n",
    "# cells_shape2 = np.array(result2).shape\n",
    "# cells_shape3 = np.array(result3).shape\n",
    "# cells_shape4 = np.array(result4).shape\n",
    "\n",
    "# 1\n",
    "for i in range(0, cells_shape1[1]-1):\n",
    "    for j in range(0, cells_shape1[0]-1):\n",
    "        cell = result1[j][i]\n",
    "        cell_trai = result1[j-1][i]\n",
    "        cell_duoi = result1[j][i-1]\n",
    "        cell_duoitrai = result1[j-1][i-1]\n",
    "        if cell[2] == 0:\n",
    "            if cell_duoitrai[2] == 1 and cell_duoi[2] == 1 and cell_trai[2] == 1:\n",
    "                result1[j][i][3] = index\n",
    "                index += 1\n",
    "            if cell_trai[3] != None:\n",
    "                result1[j][i][3] = cell_trai[3]\n",
    "            if cell_duoi[3] != None:\n",
    "                result1[j][i][3] = cell_duoi[3]"
   ]
  },
  {
   "cell_type": "code",
   "execution_count": 225,
   "metadata": {},
   "outputs": [
    {
     "name": "stdout",
     "output_type": "stream",
     "text": [
      "Danh sách sau khi loại bỏ phần tử trùng lặp: []\n"
     ]
    }
   ],
   "source": [
    "result1_copy = result1\n",
    "shape_copy_1 = np.array(result1_copy).shape\n",
    "res = []\n",
    "\n",
    "for i in range(0, shape_copy_1[1]-1):\n",
    "    for j in range(0, shape_copy_1[0]-1):\n",
    "        cell = result1_copy[j][i]\n",
    "        cell_trai = result1_copy[j-1][i]\n",
    "        cell_phai = result1_copy[j+1][i]\n",
    "        if (cell[3] != None and cell_phai[3] != None) and cell[3] - cell_phai[3] != 0:\n",
    "                res.append([cell[3], cell_phai[3]])\n",
    "\n",
    "# Sử dụng set() để loại bỏ các phần tử trùng lặp\n",
    "lis = list(set(tuple(x) for x in res))\n",
    "\n",
    "# In danh sách sau khi loại bỏ phần tử trùng lặp\n",
    "print(\"Danh sách sau khi loại bỏ phần tử trùng lặp:\", lis)\n"
   ]
  },
  {
   "cell_type": "markdown",
   "metadata": {},
   "source": [
    "### `Hợp nhất các nhóm khác nhau trong 1 mảnh`"
   ]
  },
  {
   "cell_type": "code",
   "execution_count": 221,
   "metadata": {},
   "outputs": [],
   "source": [
    "for (grx, gry) in lis:\n",
    "    for i in range(0, cells_shape1[1]-1):\n",
    "        for j in range(0, cells_shape1[0]-1):\n",
    "            cell = result1[j][i]\n",
    "            if cell[3] == gry:\n",
    "                result1[j][i][3] = grx"
   ]
  },
  {
   "cell_type": "markdown",
   "metadata": {},
   "source": [
    "### `TẠO DANH SÁCH GOM NHÓM CÁC ĐỈNH CÓ PHẦN THỊT CÙNG 1 NHÓM`"
   ]
  },
  {
   "cell_type": "code",
   "execution_count": 222,
   "metadata": {},
   "outputs": [],
   "source": [
    "image = np.ones((700, 700, 3), np.uint8) * 255\n",
    "\n",
    "# gom nhóm các đỉnh của mảnh nhỏ\n",
    "result_11 = []\n",
    "result_22 = []\n",
    "result_33 = []\n",
    "result_44 = []\n",
    "\n",
    "cells_shape1 = np.array(result1).shape\n",
    "\n",
    "### 1\n",
    "for i in range(0, cells_shape1[0]):\n",
    "    for j in range(0, cells_shape1[1]):\n",
    "        cell = result1[i][j]\n",
    "        \n",
    "        if cell[2] == 0:\n",
    "            cell_trai = result1[i-1][j]\n",
    "            cell_phai = result1[i+1][j]\n",
    "            cell_duoi = result1[i][j-1]\n",
    "            cell_tren = result1[i][j+1]\n",
    "            cell_duoiTrai = result1[i-1][j-1]\n",
    "            cell_duoiPhai = result1[i+1][j-1]\n",
    "            cell_trenTrai = result1[i-1][j+1]\n",
    "            cell_trenPhai = result1[i+1][j+1]\n",
    "            if (i > 2 and j > 2) and (i < cells_shape1[0]-2 and j < cells_shape1[1] - 2):\n",
    "                if (result1[i+1][j+2] != None and \n",
    "                    result1[i+2][j+1] != None and\n",
    "                    result1[i-1][j+2] != None and \n",
    "                    result1[i-2][j+1] != None and\n",
    "                    result1[i-1][j-2] != None and \n",
    "                    result1[i-2][j-1] != None and\n",
    "                    result1[i+1][j-2] != None and \n",
    "                    result1[i+2][j-1] != None):\n",
    "                    \n",
    "                    #           |\n",
    "                    # tren phai x__\n",
    "                    cell_tren_cua_trenPhai = result1[i+1][j+2]\n",
    "                    cell_phai_cua_trenPhai = result1[i+2][j+1]\n",
    "                    #   |\n",
    "                    # __x tren trai\n",
    "                    cell_tren_cua_trenTrai = result1[i-1][j+2]\n",
    "                    cell_trai_cua_trenTrai = result1[i-2][j+1]\n",
    "                    # __x duoi trai\n",
    "                    #   |\n",
    "                    cell_duoi_cua_duoiTrai = result1[i-1][j-2]\n",
    "                    cell_trai_cua_duoiTrai = result1[i-2][j-1]\n",
    "                    # duoi phai x__\n",
    "                    #           |\n",
    "                    cell_duoi_cua_duoiPhai = result1[i+1][j-2]\n",
    "                    cell_phai_cua_duoiPhai = result1[i+2][j-1]\n",
    "                    \n",
    "                    if cell_duoiTrai[2] == 1 and cell_duoi[2] == 1 and cell_trai[2] == 1: # 1\n",
    "                        result_11.append([cell_duoiTrai[0], cell_duoiTrai[1], cell_duoiTrai[2] , cell[3]])\n",
    "                        x,y,val,gr = cell_duoiTrai\n",
    "                        cv2.line(image, (x, y), (x, y), (255,0,255), 3)\n",
    "                    elif cell_duoiPhai[2] == 1 and cell_duoi[2] == 1 and cell_phai[2] == 1: # 2\n",
    "                        result_11.append([cell_duoiPhai[0], cell_duoiPhai[1], cell_duoiPhai[2] , cell[3]])\n",
    "                        x,y,val,gr = cell_duoiPhai\n",
    "                        cv2.line(image, (x, y), (x, y), (255,0,255), 3)\n",
    "                    elif cell_trenTrai[2] == 1 and cell_tren[2] == 1 and cell_trai[2] == 1: # 3\n",
    "                        result_11.append([cell_trenTrai[0], cell_trenTrai[1], cell_trenTrai[2] , cell[3]])\n",
    "                        x,y,val,gr = cell_trenTrai\n",
    "                        cv2.line(image, (x, y), (x, y), (255,0,255), 3)\n",
    "                    elif cell_trenPhai[2] == 1 and cell_tren[2] == 1 and cell_phai[2] == 1: # 4\n",
    "                        result_11.append([cell_trenPhai[0], cell_trenPhai[1], cell_trenPhai[2] , cell[3]])\n",
    "                        x,y,val,gr = cell_trenPhai\n",
    "                        cv2.line(image, (x, y), (x, y), (255,0,255), 3)\n",
    "                    \n",
    "                    elif cell_trenPhai[2] == 1 and cell_tren_cua_trenPhai[2] == 1 and cell_phai_cua_trenPhai[2] == 1: # 5\n",
    "                        result_11.append([cell_trenPhai[0], cell_trenPhai[1], cell_trenPhai[2] , cell[3]])\n",
    "                        x,y,val,gr = cell_trenPhai\n",
    "                        cv2.line(image, (x, y), (x, y), (255,0,0), 3)\n",
    "                    elif cell_trenTrai[2] == 1 and cell_tren_cua_trenTrai[2] == 1 and cell_trai_cua_trenTrai[2] == 1: # 6\n",
    "                        result_11.append([cell_trenTrai[0], cell_trenTrai[1], cell_trenTrai[2] , cell[3]])\n",
    "                        x,y,val,gr = cell_trenTrai\n",
    "                        cv2.line(image, (x, y), (x, y), (255,0,0), 3)\n",
    "                    elif cell_duoiPhai[2] == 1 and cell_duoi_cua_duoiPhai[2] == 1 and cell_phai_cua_duoiPhai[2] == 1: # 7\n",
    "                        result_11.append([cell_duoiPhai[0], cell_duoiPhai[1], cell_duoiPhai[2] , cell[3]])\n",
    "                        x,y,val,gr = cell_duoiPhai\n",
    "                        cv2.line(image, (x, y), (x, y), (255,0,0), 3)\n",
    "                    elif cell_duoiTrai[2] == 1 and cell_duoi_cua_duoiTrai[2] == 1 and cell_trai_cua_duoiTrai[2] == 1: # 8\n",
    "                        result_11.append([cell_duoiTrai[0], cell_duoiTrai[1], cell_duoiTrai[2] , cell[3]])\n",
    "                        x,y,val,gr = cell_duoiTrai\n",
    "                        cv2.line(image, (x, y), (x, y), (255,0,0), 3)\n",
    "            else:\n",
    "                if cell_duoiTrai[2] == 1 and cell_duoi[2] == 1 and cell_trai[2] == 1: # 1\n",
    "                    result_11.append([cell_duoiTrai[0], cell_duoiTrai[1], cell_duoiTrai[2] , cell[3]])\n",
    "                    x,y,val,gr = cell_duoiTrai\n",
    "                    cv2.line(image, (x, y), (x, y), (255,0,255), 3)\n",
    "                elif cell_duoiPhai[2] == 1 and cell_duoi[2] == 1 and cell_phai[2] == 1: # 2\n",
    "                    result_11.append([cell_duoiPhai[0], cell_duoiPhai[1], cell_duoiPhai[2] , cell[3]])\n",
    "                    x,y,val,gr = cell_duoiPhai\n",
    "                    cv2.line(image, (x, y), (x, y), (255,0,255), 3)\n",
    "                elif cell_trenTrai[2] == 1 and cell_tren[2] == 1 and cell_trai[2] == 1: # 3\n",
    "                    result_11.append([cell_trenTrai[0], cell_trenTrai[1], cell_trenTrai[2] , cell[3]])\n",
    "                    x,y,val,gr = cell_trenTrai\n",
    "                    cv2.line(image, (x, y), (x, y), (255,0,255), 3)\n",
    "                elif cell_trenPhai[2] == 1 and cell_tren[2] == 1 and cell_phai[2] == 1: # 4\n",
    "                    result_11.append([cell_trenPhai[0], cell_trenPhai[1], cell_trenPhai[2] , cell[3]])\n",
    "                    x,y,val,gr = cell_trenPhai\n",
    "                    cv2.line(image, (x, y), (x, y), (255,0,255), 3)\n",
    "        elif cell[2] == 1:\n",
    "            x,y,val,gr = cell\n",
    "            cv2.line(image, (x, y), (x, y), (0,0,0), 1)"
   ]
  },
  {
   "cell_type": "code",
   "execution_count": 226,
   "metadata": {},
   "outputs": [
    {
     "name": "stdout",
     "output_type": "stream",
     "text": [
      "danh sách tọa độ các mảnh\n",
      "Tổng số mảnh: 6\n",
      "4 [[262, 275, 1, 1], [262, 195, 1, 1], [342, 275, 1, 1], [342, 195, 1, 1]]\n",
      "6 [[342, 275, 1, 2], [342, 195, 1, 2], [400, 200, 1, 2], [400, 195, 1, 2], [422, 275, 1, 2], [422, 200, 1, 2]]\n",
      "4 [[422, 275, 1, 3], [422, 200, 1, 3], [500, 275, 1, 3], [500, 200, 1, 3]]\n",
      "4 [[262, 195, 1, 4], [262, 120, 1, 4], [342, 195, 1, 4], [342, 120, 1, 4]]\n",
      "6 [[342, 195, 1, 5], [342, 120, 1, 5], [350, 120, 1, 5], [350, 115, 1, 5], [400, 195, 1, 5], [400, 115, 1, 5]]\n",
      "4 [[350, 115, 1, 6], [350, 60, 1, 6], [400, 115, 1, 6], [400, 60, 1, 6]]\n"
     ]
    }
   ],
   "source": [
    "result_all = result_11\n",
    "result_all = sorted(result_all, key=lambda x: x[3])\n",
    "result = [list(group) for key, group in groupby(result_all, key= lambda x: x[3])]\n",
    "print('danh sách tọa độ các mảnh\\nTổng số mảnh:', len(result))\n",
    "for item in result:\n",
    "    print(len(item),item)"
   ]
  },
  {
   "cell_type": "markdown",
   "metadata": {},
   "source": [
    "### `TRỰC QUAN HÓA KẾT QUẢ TỔNG KHUNG HÌNH`"
   ]
  },
  {
   "cell_type": "code",
   "execution_count": 227,
   "metadata": {},
   "outputs": [],
   "source": [
    "\n",
    "image = np.ones((700, 700, 3), np.uint8) * 255\n",
    "\n",
    "# Lọc lây toàn bộ thịt\n",
    "array_thit = [item for item in np.array(result1).reshape(-1,4).tolist() if item[3] != None]\n",
    "# Sắp xếp theo group\n",
    "r_1 = sorted(array_thit, key= lambda x: x[3])\n",
    "# gom thịt có group giống nhau thành 1 danh sách con\n",
    "groups_thit = [list(group) for key, group in groupby(r_1, key=lambda x: x[3])]\n",
    "# Sắp xếp mảng thịt có số lượng từ lớn đến bé\n",
    "groups_thit = sorted(groups_thit, key=len, reverse=True)\n",
    "\n",
    "check = len(groups_thit[0])\n",
    "color = (255,0,0)\n",
    "for arr in groups_thit:\n",
    "    if check - len(arr) != 0:\n",
    "        color = (rd.randint(0,250), rd.randint(0,250), rd.randint(200,255))\n",
    "        check = len(arr)\n",
    "        \n",
    "    for [x,y,val,gr] in arr:\n",
    "        if val == 0:\n",
    "            cv2.line(image, (x,y), (x,y), color,1)\n",
    "\n",
    "for i in range(0, cells_shape1[0]):\n",
    "    for j in range(0, cells_shape1[1]):\n",
    "        x,y,val,gr = result1[i][j]\n",
    "        if val == 1:\n",
    "            cv2.line(image, (x,y), (x,y), (0,0,0),1)\n",
    "        elif val == None:\n",
    "            cv2.line(image, (x,y), (x,y), (200,200,200),1)\n",
    "\n",
    "[cv2.line(image, (x,y), (x,y), (0,0,0),1) for [x,y] in cell_edges]\n",
    "\n",
    "while True:\n",
    "    cv2.imshow('DatGach', image)\n",
    "    if cv2.waitKey(20) & 0xFF == 27:\n",
    "        break\n",
    "\n",
    "cv2.destroyAllWindows()"
   ]
  },
  {
   "cell_type": "markdown",
   "metadata": {},
   "source": [
    "# PHÂN LOẠI VÀ ĐẾM SỐ CÁC HÌNH GIỐNG NHAU"
   ]
  }
 ],
 "metadata": {
  "kernelspec": {
   "display_name": ".venv",
   "language": "python",
   "name": "python3"
  },
  "language_info": {
   "codemirror_mode": {
    "name": "ipython",
    "version": 3
   },
   "file_extension": ".py",
   "mimetype": "text/x-python",
   "name": "python",
   "nbconvert_exporter": "python",
   "pygments_lexer": "ipython3",
   "version": "3.8.10"
  }
 },
 "nbformat": 4,
 "nbformat_minor": 2
}
